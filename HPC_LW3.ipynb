{
  "nbformat": 4,
  "nbformat_minor": 0,
  "metadata": {
    "colab": {
      "provenance": []
    },
    "kernelspec": {
      "name": "python3",
      "display_name": "Python 3"
    },
    "language_info": {
      "name": "python"
    },
    "accelerator": "GPU",
    "gpuClass": "standard"
  },
  "cells": [
    {
      "cell_type": "code",
      "execution_count": 1,
      "metadata": {
        "id": "CcwqOVqcsp0m"
      },
      "outputs": [],
      "source": [
        "from numba import cuda\n",
        "import matplotlib.pyplot as plt\n",
        "import numpy as np\n",
        "import time\n",
        "import math\n",
        "from PIL import Image\n"
      ]
    },
    {
      "cell_type": "code",
      "source": [
        "from google.colab import drive\n",
        "drive.mount('/content/drive')\n"
      ],
      "metadata": {
        "colab": {
          "base_uri": "https://localhost:8080/"
        },
        "id": "tkiwWGwDtDzI",
        "outputId": "22bdec75-e570-4248-fd57-86d911a85db4"
      },
      "execution_count": 2,
      "outputs": [
        {
          "output_type": "stream",
          "name": "stdout",
          "text": [
            "Drive already mounted at /content/drive; to attempt to forcibly remount, call drive.mount(\"/content/drive\", force_remount=True).\n"
          ]
        }
      ]
    },
    {
      "cell_type": "code",
      "source": [
        "im = plt.imread(\"/content/drive/MyDrive/Colab Notebooks/image.jpg\")"
      ],
      "metadata": {
        "id": "R8wOKBd5tHZl"
      },
      "execution_count": 4,
      "outputs": []
    },
    {
      "cell_type": "code",
      "source": [
        "shape = np.shape(im)\n",
        "shape"
      ],
      "metadata": {
        "id": "r8r_uaphtfUw",
        "colab": {
          "base_uri": "https://localhost:8080/"
        },
        "outputId": "736fc523-3fd8-4a4c-d8b1-c90fb58e74a8"
      },
      "execution_count": 5,
      "outputs": [
        {
          "output_type": "execute_result",
          "data": {
            "text/plain": [
              "(1080, 1920, 3)"
            ]
          },
          "metadata": {},
          "execution_count": 5
        }
      ]
    },
    {
      "cell_type": "code",
      "source": [
        "devdata = cuda.to_device(im)\n",
        "devOuput = cuda.device_array(shape, np.uint8)"
      ],
      "metadata": {
        "id": "tmeUVKxFyaQ0"
      },
      "execution_count": 6,
      "outputs": []
    },
    {
      "cell_type": "code",
      "source": [
        "\n",
        "@cuda.jit\n",
        "def grayscale(src, dst):\n",
        "  tidx = cuda.threadIdx.x + cuda.blockIdx.x * cuda.blockDim.x\n",
        "  tidy = cuda.threadIdx.y + cuda.blockIdx.y * cuda.blockDim.y\n",
        "\n",
        "  g = np.uint8((src[tidx, tidy, 0] + src[tidx, tidy, 1] + src[tidx, tidy, 2]) / 3)\n",
        "  dst[tidx, tidy, 0] = dst[tidx, tidy, 1] = dst[tidx, tidy, 2] = g"
      ],
      "metadata": {
        "id": "9QmryP2701FP"
      },
      "execution_count": 16,
      "outputs": []
    },
    {
      "cell_type": "code",
      "source": [
        "t3 = time.time()\n",
        "\n",
        "blockSize = (32, 32)\n",
        "gridSize = (math.ceil(shape[0]/blockSize[0]),math.ceil(shape[1]/blockSize[1]))\n",
        "grayscale[gridSize, blockSize](devdata, devOuput)\n",
        "\n",
        "t4 = time.time()\n",
        "\n",
        "print(t4-t3)\n"
      ],
      "metadata": {
        "colab": {
          "base_uri": "https://localhost:8080/"
        },
        "id": "OghwifMs1Iat",
        "outputId": "0b24d089-5ff8-45fc-ad8f-6a8a97c4e6b7"
      },
      "execution_count": 17,
      "outputs": [
        {
          "output_type": "stream",
          "name": "stdout",
          "text": [
            "0.15127801895141602\n"
          ]
        }
      ]
    },
    {
      "cell_type": "code",
      "source": [
        "imgray = devOuput.copy_to_host()\n",
        "imgpu = Image.fromarray(imgray)\n",
        "imgpu.save(\"/content/drive/MyDrive/Colab Notebooks/image_gray_GPU_2.jpeg\")"
      ],
      "metadata": {
        "id": "YzU6e9M5gDyw"
      },
      "execution_count": 19,
      "outputs": []
    }
  ]
}