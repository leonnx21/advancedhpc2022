{
  "nbformat": 4,
  "nbformat_minor": 0,
  "metadata": {
    "colab": {
      "provenance": []
    },
    "kernelspec": {
      "name": "python3",
      "display_name": "Python 3"
    },
    "language_info": {
      "name": "python"
    },
    "accelerator": "GPU",
    "gpuClass": "standard"
  },
  "cells": [
    {
      "cell_type": "code",
      "execution_count": 56,
      "metadata": {
        "id": "CcwqOVqcsp0m"
      },
      "outputs": [],
      "source": [
        "from numba import cuda\n",
        "import matplotlib.pyplot as plt\n",
        "import numpy as np\n",
        "import time"
      ]
    },
    {
      "cell_type": "code",
      "source": [
        "from google.colab import drive\n",
        "drive.mount('/content/drive')\n"
      ],
      "metadata": {
        "colab": {
          "base_uri": "https://localhost:8080/"
        },
        "id": "tkiwWGwDtDzI",
        "outputId": "0682481c-66fa-4f91-efa8-e29d85601f23"
      },
      "execution_count": 57,
      "outputs": [
        {
          "output_type": "stream",
          "name": "stdout",
          "text": [
            "Drive already mounted at /content/drive; to attempt to forcibly remount, call drive.mount(\"/content/drive\", force_remount=True).\n"
          ]
        }
      ]
    },
    {
      "cell_type": "code",
      "source": [
        "im = plt.imread(\"/content/drive/MyDrive/Colab Notebooks/image.jpg\")"
      ],
      "metadata": {
        "id": "R8wOKBd5tHZl"
      },
      "execution_count": 58,
      "outputs": []
    },
    {
      "cell_type": "code",
      "source": [
        "shape = np.shape(im)"
      ],
      "metadata": {
        "id": "r8r_uaphtfUw"
      },
      "execution_count": 59,
      "outputs": []
    },
    {
      "cell_type": "code",
      "source": [
        "imflatten = im.copy().reshape(shape[0]*shape[1],3)"
      ],
      "metadata": {
        "id": "5Rfd-AJotuku"
      },
      "execution_count": 60,
      "outputs": []
    },
    {
      "cell_type": "code",
      "source": [
        "(imflatten[0][0] + imflatten[0][1] + imflatten[0][2])/3"
      ],
      "metadata": {
        "colab": {
          "base_uri": "https://localhost:8080/"
        },
        "id": "1S7nF3XXd4a5",
        "outputId": "a666b179-8628-48ec-fbbc-ab0d41886f61"
      },
      "execution_count": 61,
      "outputs": [
        {
          "output_type": "stream",
          "name": "stderr",
          "text": [
            "<ipython-input-61-67389afd88bb>:1: RuntimeWarning: overflow encountered in ubyte_scalars\n",
            "  (imflatten[0][0] + imflatten[0][1] + imflatten[0][2])/3\n"
          ]
        },
        {
          "output_type": "execute_result",
          "data": {
            "text/plain": [
              "52.666666666666664"
            ]
          },
          "metadata": {},
          "execution_count": 61
        }
      ]
    },
    {
      "cell_type": "code",
      "source": [
        "shape2 = np.shape(imflatten)"
      ],
      "metadata": {
        "id": "fvGghNRTuXJF"
      },
      "execution_count": 62,
      "outputs": []
    },
    {
      "cell_type": "code",
      "source": [
        "t1 = time.time()\n",
        "imtemp = np.empty_like(imflatten)\n",
        "\n",
        "for i, pixel in enumerate(imflatten):\n",
        "  gray = np.uint8((int(pixel[0]) + int(pixel[1]) + int(pixel[2]))/3)\n",
        "  imtemp[i][0] = imtemp[i][1] = imtemp[i][2] = gray\n",
        "\n",
        "t2 = time.time()\n",
        "\n",
        "print(t2-t1)\n"
      ],
      "metadata": {
        "colab": {
          "base_uri": "https://localhost:8080/"
        },
        "id": "AD4MzkMSvH8F",
        "outputId": "6619e5f6-b1eb-4054-a47d-5b01ddb9d82e"
      },
      "execution_count": 63,
      "outputs": [
        {
          "output_type": "stream",
          "name": "stdout",
          "text": [
            "3.92779278755188\n"
          ]
        }
      ]
    },
    {
      "cell_type": "code",
      "source": [
        "imgray1 = imtemp.reshape(1080, 1920, 3)"
      ],
      "metadata": {
        "id": "Ug8Tip_pwySy"
      },
      "execution_count": 64,
      "outputs": []
    },
    {
      "cell_type": "code",
      "source": [
        "from PIL import Image\n",
        "imcpu = Image.fromarray(imgray1)\n",
        "imcpu.save(\"/content/drive/MyDrive/Colab Notebooks/image_gray_CPU.jpeg\")"
      ],
      "metadata": {
        "id": "qW0yqkWwxG1Q"
      },
      "execution_count": 65,
      "outputs": []
    },
    {
      "cell_type": "code",
      "source": [
        "cuda.is_available()"
      ],
      "metadata": {
        "colab": {
          "base_uri": "https://localhost:8080/"
        },
        "id": "q4_WYFyTz5qn",
        "outputId": "af927e27-3713-4c3f-f22c-8e67ae7058a2"
      },
      "execution_count": 66,
      "outputs": [
        {
          "output_type": "execute_result",
          "data": {
            "text/plain": [
              "True"
            ]
          },
          "metadata": {},
          "execution_count": 66
        }
      ]
    },
    {
      "cell_type": "code",
      "source": [
        "imflatten2 = im.copy().reshape(shape[0]*shape[1],3)"
      ],
      "metadata": {
        "id": "_hDm_zGzkGQh"
      },
      "execution_count": 67,
      "outputs": []
    },
    {
      "cell_type": "code",
      "source": [
        "shape3 = np.shape(imflatten2)"
      ],
      "metadata": {
        "id": "HIy16j3DkIIv"
      },
      "execution_count": 68,
      "outputs": []
    },
    {
      "cell_type": "code",
      "source": [
        "devdata = cuda.to_device(imflatten2)\n",
        "devOuput = cuda.device_array(shape3, np.uint8)"
      ],
      "metadata": {
        "id": "tmeUVKxFyaQ0"
      },
      "execution_count": 69,
      "outputs": []
    },
    {
      "cell_type": "code",
      "source": [
        "@cuda.jit\n",
        "def grayscale(src, dst):\n",
        "# where are we in the input?\n",
        "  tidx = cuda.threadIdx.x + cuda.blockIdx.x * cuda.blockDim.x\n",
        "  g = np.uint8((src[tidx, 0] + src[tidx, 1] + src[tidx, 2]) / 3)\n",
        "  dst[tidx, 0] = dst[tidx, 1] = dst[tidx, 2] = g"
      ],
      "metadata": {
        "id": "9QmryP2701FP"
      },
      "execution_count": 70,
      "outputs": []
    },
    {
      "cell_type": "code",
      "source": [
        "t3 = time.time()\n",
        "\n",
        "pixelCount = shape[0]*shape[1]\n",
        "blockSize = 64\n",
        "gridSize = int(pixelCount / blockSize)\n",
        "grayscale[gridSize, blockSize](devdata, devOuput)\n",
        "\n",
        "t4 = time.time()\n",
        "\n",
        "print(t4-t3)\n"
      ],
      "metadata": {
        "colab": {
          "base_uri": "https://localhost:8080/"
        },
        "id": "OghwifMs1Iat",
        "outputId": "39af869d-62b3-47eb-c45d-c56bc3725f3f"
      },
      "execution_count": 71,
      "outputs": [
        {
          "output_type": "stream",
          "name": "stdout",
          "text": [
            "0.06766963005065918\n"
          ]
        }
      ]
    },
    {
      "cell_type": "code",
      "source": [
        "imgray2 = devOuput.copy_to_host()\n",
        "imgray3 = imgray2.reshape(1080, 1920, 3)\n",
        "imgpu = Image.fromarray(imgray3)\n",
        "imgpu.save(\"/content/drive/MyDrive/Colab Notebooks/image_gray_GPU.jpeg\")"
      ],
      "metadata": {
        "id": "YzU6e9M5gDyw"
      },
      "execution_count": 72,
      "outputs": []
    },
    {
      "cell_type": "code",
      "source": [
        "imgray3"
      ],
      "metadata": {
        "colab": {
          "base_uri": "https://localhost:8080/"
        },
        "id": "r-KauDHvad3w",
        "outputId": "8de91540-c715-43b4-e258-6453afd83eb5"
      },
      "execution_count": 73,
      "outputs": [
        {
          "output_type": "execute_result",
          "data": {
            "text/plain": [
              "array([[[138, 138, 138],\n",
              "        [137, 137, 137],\n",
              "        [134, 134, 134],\n",
              "        ...,\n",
              "        [165, 165, 165],\n",
              "        [165, 165, 165],\n",
              "        [166, 166, 166]],\n",
              "\n",
              "       [[144, 144, 144],\n",
              "        [143, 143, 143],\n",
              "        [140, 140, 140],\n",
              "        ...,\n",
              "        [167, 167, 167],\n",
              "        [167, 167, 167],\n",
              "        [167, 167, 167]],\n",
              "\n",
              "       [[138, 138, 138],\n",
              "        [137, 137, 137],\n",
              "        [136, 136, 136],\n",
              "        ...,\n",
              "        [166, 166, 166],\n",
              "        [165, 165, 165],\n",
              "        [167, 167, 167]],\n",
              "\n",
              "       ...,\n",
              "\n",
              "       [[ 41,  41,  41],\n",
              "        [ 41,  41,  41],\n",
              "        [ 40,  40,  40],\n",
              "        ...,\n",
              "        [ 39,  39,  39],\n",
              "        [ 40,  40,  40],\n",
              "        [ 40,  40,  40]],\n",
              "\n",
              "       [[ 41,  41,  41],\n",
              "        [ 41,  41,  41],\n",
              "        [ 40,  40,  40],\n",
              "        ...,\n",
              "        [ 37,  37,  37],\n",
              "        [ 38,  38,  38],\n",
              "        [ 39,  39,  39]],\n",
              "\n",
              "       [[ 41,  41,  41],\n",
              "        [ 41,  41,  41],\n",
              "        [ 40,  40,  40],\n",
              "        ...,\n",
              "        [ 37,  37,  37],\n",
              "        [ 37,  37,  37],\n",
              "        [ 37,  37,  37]]], dtype=uint8)"
            ]
          },
          "metadata": {},
          "execution_count": 73
        }
      ]
    }
  ]
}