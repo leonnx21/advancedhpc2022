{
  "nbformat": 4,
  "nbformat_minor": 0,
  "metadata": {
    "colab": {
      "provenance": []
    },
    "kernelspec": {
      "name": "python3",
      "display_name": "Python 3"
    },
    "language_info": {
      "name": "python"
    },
    "accelerator": "GPU",
    "gpuClass": "standard"
  },
  "cells": [
    {
      "cell_type": "code",
      "execution_count": 1,
      "metadata": {
        "id": "wT2LRMyGdEDR"
      },
      "outputs": [],
      "source": [
        "from numba import cuda\n",
        "import matplotlib.pyplot as plt\n",
        "import numpy as np\n",
        "import time\n",
        "import math\n",
        "from PIL import Image"
      ]
    },
    {
      "cell_type": "code",
      "source": [
        "from google.colab import drive\n",
        "drive.mount('/content/drive')"
      ],
      "metadata": {
        "colab": {
          "base_uri": "https://localhost:8080/"
        },
        "id": "sXMh0v2oeM7R",
        "outputId": "e2361757-a704-42a0-91c5-4c01205e5290"
      },
      "execution_count": 2,
      "outputs": [
        {
          "output_type": "stream",
          "name": "stdout",
          "text": [
            "Mounted at /content/drive\n"
          ]
        }
      ]
    },
    {
      "cell_type": "code",
      "source": [
        "im = plt.imread(\"/content/drive/MyDrive/Colab Notebooks/image2.jpg\")"
      ],
      "metadata": {
        "id": "5bTe874heOgA"
      },
      "execution_count": 3,
      "outputs": []
    },
    {
      "cell_type": "code",
      "source": [
        "shape = np.shape(im)"
      ],
      "metadata": {
        "id": "0cqM0EX9eP-a"
      },
      "execution_count": 4,
      "outputs": []
    },
    {
      "cell_type": "markdown",
      "source": [
        "#LW6a"
      ],
      "metadata": {
        "id": "sElnxBJZecZ5"
      }
    },
    {
      "cell_type": "code",
      "source": [
        "@cuda.jit\n",
        "def grayscalebinarlization1(src, dst, threshold):\n",
        "  tidx = cuda.threadIdx.x + cuda.blockIdx.x * cuda.blockDim.x\n",
        "  tidy = cuda.threadIdx.y + cuda.blockIdx.y * cuda.blockDim.y\n",
        "  \n",
        "  v = (src[tidx,tidy,0]+src[tidx,tidy,1]+src[tidx,tidy,2])/3\n",
        "\n",
        "  if v >= threshold:\n",
        "    v = 255\n",
        "  else:\n",
        "    v = 0\n",
        "\n",
        "  dst[tidx, tidy, 0 ] = np.uint8(v)\n",
        "  dst[tidx, tidy, 1 ] = np.uint8(v)\n",
        "  dst[tidx, tidy, 2 ] = np.uint8(v)"
      ],
      "metadata": {
        "id": "JGJIxpH5ebhM"
      },
      "execution_count": 5,
      "outputs": []
    },
    {
      "cell_type": "code",
      "source": [
        "devdata = cuda.to_device(im)\n",
        "devOuput = cuda.device_array(shape, np.uint8)\n",
        "blockSize = (32,32)\n",
        "\n",
        "gridSize = (math.ceil(shape[0]/blockSize[0]),math.ceil(shape[1]/blockSize[1]))\n",
        "grayscalebinarlization1[gridSize, blockSize](devdata, devOuput, 50)"
      ],
      "metadata": {
        "id": "RKvrlO0UeapZ"
      },
      "execution_count": 6,
      "outputs": []
    },
    {
      "cell_type": "code",
      "source": [
        "result = devOuput.copy_to_host()\n",
        "imgpu = Image.fromarray(result)\n",
        "imgpu.save(\"/content/drive/MyDrive/Colab Notebooks/image_bw_GPU.jpeg\")"
      ],
      "metadata": {
        "id": "YwLkR2DHfyIu"
      },
      "execution_count": 7,
      "outputs": []
    },
    {
      "cell_type": "code",
      "source": [
        "@cuda.jit\n",
        "def grayscalebinarlization2(src, dst, threshold):\n",
        "  tidx = cuda.threadIdx.x + cuda.blockIdx.x * cuda.blockDim.x\n",
        "  tidy = cuda.threadIdx.y + cuda.blockIdx.y * cuda.blockDim.y\n",
        "     \n",
        "  v = (src[tidx,tidy,0]+src[tidx,tidy,1]+src[tidx,tidy,2])/3\n",
        "\n",
        "  relv = v/255\n",
        "  relvthreshold = threshold/255\n",
        "\n",
        "  bv = math.ceil(relv-relvthreshold)\n",
        "  bv = bv*255\n",
        "\n",
        "  dst[tidx, tidy, 0 ] = bv\n",
        "  dst[tidx, tidy, 1 ] = bv\n",
        "  dst[tidx, tidy, 2 ] = bv"
      ],
      "metadata": {
        "id": "ZsniEkAzg_Op"
      },
      "execution_count": 8,
      "outputs": []
    },
    {
      "cell_type": "code",
      "source": [
        "devdata = cuda.to_device(im)\n",
        "devOuput = cuda.device_array(shape, np.uint8)\n",
        "blockSize = (32,32)\n",
        "\n",
        "gridSize = (math.ceil(shape[0]/blockSize[0]),math.ceil(shape[1]/blockSize[1]))\n",
        "grayscalebinarlization2[gridSize, blockSize](devdata, devOuput, 50)"
      ],
      "metadata": {
        "id": "Up3ULNmJlEhq"
      },
      "execution_count": 9,
      "outputs": []
    },
    {
      "cell_type": "code",
      "source": [
        "result = devOuput.copy_to_host()\n",
        "imgpu = Image.fromarray(result)\n",
        "imgpu.save(\"/content/drive/MyDrive/Colab Notebooks/image_bw_GPU2.jpeg\")"
      ],
      "metadata": {
        "id": "QNEwN89UlEnd"
      },
      "execution_count": 10,
      "outputs": []
    },
    {
      "cell_type": "code",
      "source": [],
      "metadata": {
        "id": "RE_qcEkYlhLZ"
      },
      "execution_count": 10,
      "outputs": []
    },
    {
      "cell_type": "markdown",
      "source": [
        "#LW6B"
      ],
      "metadata": {
        "id": "PJEjwJh8nwdE"
      }
    },
    {
      "cell_type": "code",
      "source": [
        "@cuda.jit\n",
        "def brightnesscontrol(src, dst, brightnesslevel):\n",
        "  tidx = cuda.threadIdx.x + cuda.blockIdx.x * cuda.blockDim.x\n",
        "  tidy = cuda.threadIdx.y + cuda.blockIdx.y * cuda.blockDim.y\n",
        "\n",
        "  r = src[tidx, tidy, 0] + brightnesslevel\n",
        "  g = src[tidx, tidy, 1] + brightnesslevel\n",
        "  b = src[tidx, tidy, 2] + brightnesslevel\n",
        "  \n",
        "  if r > 255:\n",
        "    r = 255\n",
        "  elif r <0:\n",
        "    r = 0\n",
        "  \n",
        "  if g > 255:\n",
        "    g = 255\n",
        "  elif g <0:\n",
        "    g = 0\n",
        "\n",
        "  if b > 255:\n",
        "    b = 255\n",
        "  elif b <0:\n",
        "    b = 0\n",
        "\n",
        "  dst[tidx, tidy, 0] = np.uint8(r)\n",
        "  dst[tidx, tidy, 1] = np.uint8(g)\n",
        "  dst[tidx, tidy, 2] = np.uint8(b)"
      ],
      "metadata": {
        "id": "MioLuLi7n_WB"
      },
      "execution_count": 25,
      "outputs": []
    },
    {
      "cell_type": "code",
      "source": [
        "devdata = cuda.to_device(im)\n",
        "devOuput = cuda.device_array(shape, np.uint8)\n",
        "blockSize = (32,32)\n",
        "\n",
        "gridSize = (math.ceil(shape[0]/blockSize[0]),math.ceil(shape[1]/blockSize[1]))\n",
        "brightnesscontrol[gridSize, blockSize](devdata, devOuput, 80)"
      ],
      "metadata": {
        "id": "60bxTbKloor0"
      },
      "execution_count": 27,
      "outputs": []
    },
    {
      "cell_type": "code",
      "source": [
        "result = devOuput.copy_to_host()\n",
        "imgpu = Image.fromarray(result)\n",
        "imgpu.save(\"/content/drive/MyDrive/Colab Notebooks/image_brightness_GPU.jpeg\")"
      ],
      "metadata": {
        "id": "ecxki-e3otnM"
      },
      "execution_count": 28,
      "outputs": []
    },
    {
      "cell_type": "code",
      "source": [],
      "metadata": {
        "id": "dtsSWW6eMe9F"
      },
      "execution_count": null,
      "outputs": []
    },
    {
      "cell_type": "markdown",
      "source": [
        "#LW6c"
      ],
      "metadata": {
        "id": "gJuxeRyeMfo5"
      }
    },
    {
      "cell_type": "code",
      "source": [
        "im1 = plt.imread(\"/content/drive/MyDrive/Colab Notebooks/image7.jpg\")\n",
        "im2 = plt.imread(\"/content/drive/MyDrive/Colab Notebooks/image8.jpg\")"
      ],
      "metadata": {
        "id": "U1JcyhuoMh-T"
      },
      "execution_count": 31,
      "outputs": []
    },
    {
      "cell_type": "code",
      "source": [
        "@cuda.jit\n",
        "def mergepic(src1, src2, dst, threshold):\n",
        "  tidx = cuda.threadIdx.x + cuda.blockIdx.x * cuda.blockDim.x\n",
        "  tidy = cuda.threadIdx.y + cuda.blockIdx.y * cuda.blockDim.y\n",
        "\n",
        "  r = src1[tidx, tidy, 0]*threshold+src2[tidx, tidy, 0]*(1-threshold)\n",
        "  g = src1[tidx, tidy, 1]*threshold+src2[tidx, tidy, 1]*(1-threshold)\n",
        "  b = src1[tidx, tidy, 2]*threshold+src2[tidx, tidy, 2]*(1-threshold)\n",
        "\n",
        "  dst[tidx, tidy, 0] = np.uint8(r)\n",
        "  dst[tidx, tidy, 1] = np.uint8(g)\n",
        "  dst[tidx, tidy, 2] = np.uint8(b)"
      ],
      "metadata": {
        "id": "IK9325OMOnl5"
      },
      "execution_count": 32,
      "outputs": []
    },
    {
      "cell_type": "code",
      "source": [
        "devdata1 = cuda.to_device(im1)\n",
        "devdata2 = cuda.to_device(im2)\n",
        "shape = np.shape(im1)\n",
        "devOuput = cuda.device_array(shape, np.uint8)\n",
        "blockSize = (32,32)\n",
        "gridSize = (math.ceil(shape[0]/blockSize[0]),math.ceil(shape[1]/blockSize[1]))\n",
        "\n",
        "mergepic[gridSize, blockSize](devdata1, devdata2, devOuput, 0.5)"
      ],
      "metadata": {
        "id": "DZOOiNxgPJt-"
      },
      "execution_count": 33,
      "outputs": []
    },
    {
      "cell_type": "code",
      "source": [
        "result = devOuput.copy_to_host()\n",
        "imgpu = Image.fromarray(result)\n",
        "imgpu.save(\"/content/drive/MyDrive/Colab Notebooks/merge_GPU.jpeg\")"
      ],
      "metadata": {
        "id": "EZS2BmP7PiEw"
      },
      "execution_count": 34,
      "outputs": []
    }
  ]
}