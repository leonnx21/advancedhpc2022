{
  "nbformat": 4,
  "nbformat_minor": 0,
  "metadata": {
    "colab": {
      "provenance": []
    },
    "kernelspec": {
      "name": "python3",
      "display_name": "Python 3"
    },
    "language_info": {
      "name": "python"
    },
    "accelerator": "GPU",
    "gpuClass": "standard"
  },
  "cells": [
    {
      "cell_type": "code",
      "execution_count": 1,
      "metadata": {
        "id": "CcwqOVqcsp0m"
      },
      "outputs": [],
      "source": [
        "from numba import cuda\n",
        "import matplotlib.pyplot as plt\n",
        "import numpy as np\n",
        "import time\n",
        "import math\n",
        "from PIL import Image\n",
        "import pandas as pd"
      ]
    },
    {
      "cell_type": "code",
      "source": [
        "from google.colab import drive\n",
        "drive.mount('/content/drive')\n"
      ],
      "metadata": {
        "colab": {
          "base_uri": "https://localhost:8080/"
        },
        "id": "tkiwWGwDtDzI",
        "outputId": "1bc9763a-1a8d-4d61-f9ab-9caa4f7c3f7b"
      },
      "execution_count": 2,
      "outputs": [
        {
          "output_type": "stream",
          "name": "stdout",
          "text": [
            "Drive already mounted at /content/drive; to attempt to forcibly remount, call drive.mount(\"/content/drive\", force_remount=True).\n"
          ]
        }
      ]
    },
    {
      "cell_type": "code",
      "source": [
        "im = plt.imread(\"/content/drive/MyDrive/Colab Notebooks/image1.jpg\")"
      ],
      "metadata": {
        "id": "R8wOKBd5tHZl"
      },
      "execution_count": 3,
      "outputs": []
    },
    {
      "cell_type": "code",
      "source": [
        "shape = np.shape(im)\n",
        "shape"
      ],
      "metadata": {
        "id": "r8r_uaphtfUw",
        "colab": {
          "base_uri": "https://localhost:8080/"
        },
        "outputId": "1b1f7ad8-da5a-4efd-b054-cbd0b30010be"
      },
      "execution_count": 4,
      "outputs": [
        {
          "output_type": "execute_result",
          "data": {
            "text/plain": [
              "(1080, 1920, 3)"
            ]
          },
          "metadata": {},
          "execution_count": 4
        }
      ]
    },
    {
      "cell_type": "code",
      "source": [
        "devdata = cuda.to_device(im)\n",
        "devOuput = cuda.device_array(shape, np.uint8)"
      ],
      "metadata": {
        "id": "tmeUVKxFyaQ0"
      },
      "execution_count": 5,
      "outputs": []
    },
    {
      "cell_type": "code",
      "source": [
        "\n",
        "@cuda.jit\n",
        "def grayscale(src, dst):\n",
        "  tidx = cuda.threadIdx.x + cuda.blockIdx.x * cuda.blockDim.x\n",
        "  tidy = cuda.threadIdx.y + cuda.blockIdx.y * cuda.blockDim.y\n",
        "\n",
        "  g = np.uint8((src[tidx, tidy, 0] + src[tidx, tidy, 1] + src[tidx, tidy, 2]) / 3)\n",
        "  dst[tidx, tidy, 0] = dst[tidx, tidy, 1] = dst[tidx, tidy, 2] = g"
      ],
      "metadata": {
        "id": "9QmryP2701FP"
      },
      "execution_count": 6,
      "outputs": []
    },
    {
      "cell_type": "code",
      "source": [
        "def testfunc(x,y):\n",
        "  t1 = time.time()\n",
        "  blockSize = (x, y)\n",
        "  gridSize = (math.ceil(shape[0]/blockSize[0]),math.ceil(shape[1]/blockSize[1]))\n",
        "  grayscale[gridSize, blockSize](devdata, devOuput)\n",
        "  t2 = time.time()\n",
        "  t = t2 - t1\n",
        "\n",
        "  return t\n"
      ],
      "metadata": {
        "id": "OghwifMs1Iat"
      },
      "execution_count": 7,
      "outputs": []
    },
    {
      "cell_type": "code",
      "source": [
        "resultname = []\n",
        "listi = [1,2,4,8,16,24,32,64,128,512,1024]\n",
        "listj = [1,2,4,8,16,24,32,64,128,512,1024]\n",
        "listi2 = []\n",
        "listj2 = []\n",
        "\n",
        "for i in listi:\n",
        "  for j in listj:\n",
        "      if (i*j)<=1024:\n",
        "        resultname.append((i,j))\n",
        "\n",
        "resultname"
      ],
      "metadata": {
        "colab": {
          "base_uri": "https://localhost:8080/"
        },
        "id": "Sq0JBNYyOUvg",
        "outputId": "261c8680-70c0-4b38-c2a6-3080da7e1a76"
      },
      "execution_count": 15,
      "outputs": [
        {
          "output_type": "execute_result",
          "data": {
            "text/plain": [
              "[(1, 1),\n",
              " (1, 2),\n",
              " (1, 4),\n",
              " (1, 8),\n",
              " (1, 16),\n",
              " (1, 24),\n",
              " (1, 32),\n",
              " (1, 64),\n",
              " (1, 128),\n",
              " (1, 512),\n",
              " (1, 1024),\n",
              " (2, 1),\n",
              " (2, 2),\n",
              " (2, 4),\n",
              " (2, 8),\n",
              " (2, 16),\n",
              " (2, 24),\n",
              " (2, 32),\n",
              " (2, 64),\n",
              " (2, 128),\n",
              " (2, 512),\n",
              " (4, 1),\n",
              " (4, 2),\n",
              " (4, 4),\n",
              " (4, 8),\n",
              " (4, 16),\n",
              " (4, 24),\n",
              " (4, 32),\n",
              " (4, 64),\n",
              " (4, 128),\n",
              " (8, 1),\n",
              " (8, 2),\n",
              " (8, 4),\n",
              " (8, 8),\n",
              " (8, 16),\n",
              " (8, 24),\n",
              " (8, 32),\n",
              " (8, 64),\n",
              " (8, 128),\n",
              " (16, 1),\n",
              " (16, 2),\n",
              " (16, 4),\n",
              " (16, 8),\n",
              " (16, 16),\n",
              " (16, 24),\n",
              " (16, 32),\n",
              " (16, 64),\n",
              " (24, 1),\n",
              " (24, 2),\n",
              " (24, 4),\n",
              " (24, 8),\n",
              " (24, 16),\n",
              " (24, 24),\n",
              " (24, 32),\n",
              " (32, 1),\n",
              " (32, 2),\n",
              " (32, 4),\n",
              " (32, 8),\n",
              " (32, 16),\n",
              " (32, 24),\n",
              " (32, 32),\n",
              " (64, 1),\n",
              " (64, 2),\n",
              " (64, 4),\n",
              " (64, 8),\n",
              " (64, 16),\n",
              " (128, 1),\n",
              " (128, 2),\n",
              " (128, 4),\n",
              " (128, 8),\n",
              " (512, 1),\n",
              " (512, 2),\n",
              " (1024, 1)]"
            ]
          },
          "metadata": {},
          "execution_count": 15
        }
      ]
    },
    {
      "cell_type": "code",
      "source": [
        "result = []\n",
        "\n",
        "for i in resultname:\n",
        "    t3 = testfunc(i[0], i[1])\n",
        "    result.append(t3)\n",
        "\n",
        "l = list(range(len(result)))\n"
      ],
      "metadata": {
        "id": "kanH_nGmAMpy"
      },
      "execution_count": 16,
      "outputs": []
    },
    {
      "cell_type": "code",
      "source": [
        "plt.bar(l,result)\n",
        "plt.yscale(\"log\")"
      ],
      "metadata": {
        "colab": {
          "base_uri": "https://localhost:8080/",
          "height": 265
        },
        "id": "Y7vUJF0fQ7pw",
        "outputId": "835c9db2-b053-4623-d6d5-cfc92a22c944"
      },
      "execution_count": 17,
      "outputs": [
        {
          "output_type": "display_data",
          "data": {
            "text/plain": [
              "<Figure size 432x288 with 1 Axes>"
            ],
            "image/png": "[encoded data removed]"
          },
          "metadata": {
            "needs_background": "light"
          }
        }
      ]
    }
  ]
}