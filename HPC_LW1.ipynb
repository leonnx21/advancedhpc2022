{
  "nbformat": 4,
  "nbformat_minor": 0,
  "metadata": {
    "colab": {
      "provenance": []
    },
    "kernelspec": {
      "name": "python3",
      "display_name": "Python 3"
    },
    "language_info": {
      "name": "python"
    },
    "accelerator": "GPU",
    "gpuClass": "standard"
  },
  "cells": [
    {
      "cell_type": "code",
      "source": [
        "from numba import cuda\n",
        "print(cuda.gpus)"
      ],
      "metadata": {
        "colab": {
          "base_uri": "https://localhost:8080/"
        },
        "id": "Vu-qhU7Cd0Pp",
        "outputId": "5b6c2791-7f6b-41ef-d6a1-28faa39cfc94"
      },
      "execution_count": null,
      "outputs": [
        {
          "output_type": "stream",
          "name": "stdout",
          "text": [
            "<Managed Device 0>\n"
          ]
        }
      ]
    },
    {
      "cell_type": "code",
      "source": [
        "cuda.is_available()\n"
      ],
      "metadata": {
        "colab": {
          "base_uri": "https://localhost:8080/"
        },
        "id": "rTz8URbvd400",
        "outputId": "130f5904-e4c1-459c-8417-011c0b38ab29"
      },
      "execution_count": null,
      "outputs": [
        {
          "output_type": "execute_result",
          "data": {
            "text/plain": [
              "True"
            ]
          },
          "metadata": {},
          "execution_count": 31
        }
      ]
    },
    {
      "cell_type": "code",
      "source": [
        "print(cuda.detect())\n"
      ],
      "metadata": {
        "colab": {
          "base_uri": "https://localhost:8080/"
        },
        "id": "uI3Tv2dSfZJZ",
        "outputId": "0c9d29d3-cc8f-4bee-dcfe-8287f5f0cb65"
      },
      "execution_count": null,
      "outputs": [
        {
          "output_type": "stream",
          "name": "stdout",
          "text": [
            "Found 1 CUDA devices\n",
            "id 0             b'Tesla T4'                              [SUPPORTED]\n",
            "                      Compute Capability: 7.5\n",
            "                           PCI Device ID: 4\n",
            "                              PCI Bus ID: 0\n",
            "                                    UUID: GPU-bd84f689-2015-6390-9457-6349c47cc17b\n",
            "                                Watchdog: Disabled\n",
            "             FP32/FP64 Performance Ratio: 32\n",
            "Summary:\n",
            "\t1/1 devices are supported\n",
            "True\n"
          ]
        }
      ]
    },
    {
      "cell_type": "code",
      "source": [
        "print(\"Device name: \",cuda.select_device(0))"
      ],
      "metadata": {
        "colab": {
          "base_uri": "https://localhost:8080/"
        },
        "id": "ad7D2nwuCVfj",
        "outputId": "aca8a240-2877-44a2-96ab-23c6205e5696"
      },
      "execution_count": null,
      "outputs": [
        {
          "output_type": "stream",
          "name": "stdout",
          "text": [
            "Device name:  <CUDA device 0 'b'Tesla T4''>\n"
          ]
        }
      ]
    },
    {
      "cell_type": "code",
      "source": [
        "from numba.cuda.cudadrv import enums\n",
        "device = cuda.get_current_device()\n",
        "attribs= [name.replace(\"CU_DEVICE_ATTRIBUTE_\", \"\") for name in dir(enums) if name.startswith(\"CU_DEVICE_ATTRIBUTE_\")]\n",
        "attribs\n"
      ],
      "metadata": {
        "colab": {
          "base_uri": "https://localhost:8080/"
        },
        "id": "axZPGQnXgLUL",
        "outputId": "18e1f7e3-8185-406b-acb8-b723dcb55fb2"
      },
      "execution_count": null,
      "outputs": [
        {
          "output_type": "execute_result",
          "data": {
            "text/plain": [
              "['ASYNC_ENGINE_COUNT',\n",
              " 'CAN_MAP_HOST_MEMORY',\n",
              " 'CAN_USE_HOST_POINTER_FOR_REGISTERED_MEM',\n",
              " 'CLOCK_RATE',\n",
              " 'COMPUTE_CAPABILITY_MAJOR',\n",
              " 'COMPUTE_CAPABILITY_MINOR',\n",
              " 'COMPUTE_MODE',\n",
              " 'COMPUTE_PREEMPTION_SUPPORTED',\n",
              " 'CONCURRENT_KERNELS',\n",
              " 'CONCURRENT_MANAGED_ACCESS',\n",
              " 'COOPERATIVE_LAUNCH',\n",
              " 'COOPERATIVE_MULTI_DEVICE_LAUNCH',\n",
              " 'ECC_ENABLED',\n",
              " 'GLOBAL_L1_CACHE_SUPPORTED',\n",
              " 'GLOBAL_MEMORY_BUS_WIDTH',\n",
              " 'GPU_OVERLAP',\n",
              " 'HOST_NATIVE_ATOMIC_SUPPORTED',\n",
              " 'INTEGRATED',\n",
              " 'IS_MULTI_GPU_BOARD',\n",
              " 'KERNEL_EXEC_TIMEOUT',\n",
              " 'L2_CACHE_SIZE',\n",
              " 'LOCAL_L1_CACHE_SUPPORTED',\n",
              " 'MANAGED_MEMORY',\n",
              " 'MAX_BLOCK_DIM_X',\n",
              " 'MAX_BLOCK_DIM_Y',\n",
              " 'MAX_BLOCK_DIM_Z',\n",
              " 'MAX_GRID_DIM_X',\n",
              " 'MAX_GRID_DIM_Y',\n",
              " 'MAX_GRID_DIM_Z',\n",
              " 'MAX_MAX_TEXTURE_2D_MIPMAPPED_HEIGHT',\n",
              " 'MAX_PITCH',\n",
              " 'MAX_REGISTERS_PER_BLOCK',\n",
              " 'MAX_REGISTERS_PER_MULTIPROCESSOR',\n",
              " 'MAX_SHARED_MEMORY_PER_BLOCK',\n",
              " 'MAX_SHARED_MEMORY_PER_BLOCK_OPTIN',\n",
              " 'MAX_SHARED_MEMORY_PER_MULTIPROCESSOR',\n",
              " 'MAX_SURFACE_1D_LAYERED_LAYERS',\n",
              " 'MAX_SURFACE_1D_LAYERED_WIDTH',\n",
              " 'MAX_SURFACE_1D_WIDTH',\n",
              " 'MAX_SURFACE_2D_HEIGHT',\n",
              " 'MAX_SURFACE_2D_LAYERED_HEIGHT',\n",
              " 'MAX_SURFACE_2D_LAYERED_LAYERS',\n",
              " 'MAX_SURFACE_2D_LAYERED_WIDTH',\n",
              " 'MAX_SURFACE_2D_WIDTH',\n",
              " 'MAX_SURFACE_3D_DEPTH',\n",
              " 'MAX_SURFACE_3D_HEIGHT',\n",
              " 'MAX_SURFACE_3D_WIDTH',\n",
              " 'MAX_SURFACE_CUBEMAP_LAYERED_LAYERS',\n",
              " 'MAX_SURFACE_CUBEMAP_LAYERED_WIDTH',\n",
              " 'MAX_SURFACE_CUBEMAP_WIDTH',\n",
              " 'MAX_TEXTURE_1D_LAYERED_LAYERS',\n",
              " 'MAX_TEXTURE_1D_LAYERED_WIDTH',\n",
              " 'MAX_TEXTURE_1D_LINEAR_WIDTH',\n",
              " 'MAX_TEXTURE_1D_MIPMAPPED_WIDTH',\n",
              " 'MAX_TEXTURE_1D_WIDTH',\n",
              " 'MAX_TEXTURE_2D_GATHER_HEIGHT',\n",
              " 'MAX_TEXTURE_2D_GATHER_WIDTH',\n",
              " 'MAX_TEXTURE_2D_HEIGHT',\n",
              " 'MAX_TEXTURE_2D_LAYERED_HEIGHT',\n",
              " 'MAX_TEXTURE_2D_LAYERED_LAYERS',\n",
              " 'MAX_TEXTURE_2D_LAYERED_WIDTH',\n",
              " 'MAX_TEXTURE_2D_LINEAR_HEIGHT',\n",
              " 'MAX_TEXTURE_2D_LINEAR_PITCH',\n",
              " 'MAX_TEXTURE_2D_LINEAR_WIDTH',\n",
              " 'MAX_TEXTURE_2D_MIPMAPPED_WIDTH',\n",
              " 'MAX_TEXTURE_2D_WIDTH',\n",
              " 'MAX_TEXTURE_3D_DEPTH',\n",
              " 'MAX_TEXTURE_3D_DEPTH_ALT',\n",
              " 'MAX_TEXTURE_3D_HEIGHT',\n",
              " 'MAX_TEXTURE_3D_HEIGHT_ALT',\n",
              " 'MAX_TEXTURE_3D_WIDTH',\n",
              " 'MAX_TEXTURE_3D_WIDTH_ALT',\n",
              " 'MAX_TEXTURE_CUBEMAP_LAYERED_LAYERS',\n",
              " 'MAX_TEXTURE_CUBEMAP_LAYERED_WIDTH',\n",
              " 'MAX_TEXTURE_CUBEMAP_WIDTH',\n",
              " 'MAX_THREADS_PER_BLOCK',\n",
              " 'MAX_THREADS_PER_MULTI_PROCESSOR',\n",
              " 'MEMORY_CLOCK_RATE',\n",
              " 'MULTIPROCESSOR_COUNT',\n",
              " 'MULTI_GPU_BOARD_GROUP_ID',\n",
              " 'PAGEABLE_MEMORY_ACCESS',\n",
              " 'PCI_BUS_ID',\n",
              " 'PCI_DEVICE_ID',\n",
              " 'PCI_DOMAIN_ID',\n",
              " 'SINGLE_TO_DOUBLE_PRECISION_PERF_RATIO',\n",
              " 'STREAM_PRIORITIES_SUPPORTED',\n",
              " 'SURFACE_ALIGNMENT',\n",
              " 'TCC_DRIVER',\n",
              " 'TEXTURE_ALIGNMENT',\n",
              " 'TEXTURE_PITCH_ALIGNMENT',\n",
              " 'TOTAL_CONSTANT_MEMORY',\n",
              " 'UNIFIED_ADDRESSING',\n",
              " 'WARP_SIZE']"
            ]
          },
          "metadata": {},
          "execution_count": 34
        }
      ]
    },
    {
      "cell_type": "code",
      "source": [],
      "metadata": {
        "id": "rlZ7Fen1iX1p"
      },
      "execution_count": null,
      "outputs": []
    },
    {
      "cell_type": "code",
      "source": [
        "print(\"CLOCK RATE :\", getattr(device,'CLOCK_RATE'))"
      ],
      "metadata": {
        "colab": {
          "base_uri": "https://localhost:8080/"
        },
        "id": "KNI5dH8gmEsC",
        "outputId": "a640677e-da3d-4969-b2ae-ba95b63addea"
      },
      "execution_count": null,
      "outputs": [
        {
          "output_type": "stream",
          "name": "stdout",
          "text": [
            "CLOCK RATE : 1590000\n"
          ]
        }
      ]
    },
    {
      "cell_type": "code",
      "source": [
        "cc_cores_per_SM_dict = {\n",
        "    (2,0) : 32,\n",
        "    (2,1) : 48,\n",
        "    (3,0) : 192,\n",
        "    (3,5) : 192,\n",
        "    (3,7) : 192,\n",
        "    (5,0) : 128,\n",
        "    (5,2) : 128,\n",
        "    (6,0) : 64,\n",
        "    (6,1) : 128,\n",
        "    (7,0) : 64,\n",
        "    (7,5) : 64,\n",
        "    (8,0) : 64,\n",
        "    (8,6) : 128,\n",
        "    (8,9) : 128,\n",
        "    (9,0) : 128,\n",
        "    }\n",
        "\n",
        "device = cuda.get_current_device()\n",
        "my_sms = getattr(device, 'MULTIPROCESSOR_COUNT')\n",
        "my_cc = device.compute_capability\n",
        "cores_per_sm = cc_cores_per_SM_dict.get(my_cc)\n",
        "total_cores = cores_per_sm*my_sms\n",
        "print(\"total cores: \" , total_cores)"
      ],
      "metadata": {
        "colab": {
          "base_uri": "https://localhost:8080/"
        },
        "id": "Ht7CeROJndmK",
        "outputId": "d56d9f84-f5b5-4cc4-aceb-c5f94a40f2ad"
      },
      "execution_count": null,
      "outputs": [
        {
          "output_type": "stream",
          "name": "stdout",
          "text": [
            "total cores:  2560\n"
          ]
        }
      ]
    },
    {
      "cell_type": "code",
      "source": [
        "print(\"MULTIPROCESSOR COUNT :\",getattr(device, 'MULTIPROCESSOR_COUNT'))"
      ],
      "metadata": {
        "colab": {
          "base_uri": "https://localhost:8080/"
        },
        "id": "aoP7gdiOE72D",
        "outputId": "0805ce9e-4faa-484b-c166-871d585b5f0d"
      },
      "execution_count": null,
      "outputs": [
        {
          "output_type": "stream",
          "name": "stdout",
          "text": [
            "MULTIPROCESSOR COUNT : 40\n"
          ]
        }
      ]
    },
    {
      "cell_type": "code",
      "source": [
        "getattr(device,'WARP_SIZE')"
      ],
      "metadata": {
        "colab": {
          "base_uri": "https://localhost:8080/"
        },
        "id": "1EMd6sHSrwLs",
        "outputId": "f606e215-3169-4f54-e401-781c32e918e4"
      },
      "execution_count": null,
      "outputs": [
        {
          "output_type": "execute_result",
          "data": {
            "text/plain": [
              "32"
            ]
          },
          "metadata": {},
          "execution_count": 38
        }
      ]
    },
    {
      "cell_type": "code",
      "source": [
        "print(\"MEMORY :\", cuda.current_context().get_memory_info())"
      ],
      "metadata": {
        "id": "zuxy6MYCslhU",
        "colab": {
          "base_uri": "https://localhost:8080/"
        },
        "outputId": "8c7a8a4c-4132-4ac4-8d19-9d8c1c7541e3"
      },
      "execution_count": null,
      "outputs": [
        {
          "output_type": "stream",
          "name": "stdout",
          "text": [
            "MEMORY : MemoryInfo(free=15736766464, total=15843721216)\n"
          ]
        }
      ]
    },
    {
      "cell_type": "code",
      "source": [
        "print(\"GLOBAL_MEMORY_BUS_WIDTH :\",getattr(device, 'GLOBAL_MEMORY_BUS_WIDTH'))"
      ],
      "metadata": {
        "colab": {
          "base_uri": "https://localhost:8080/"
        },
        "id": "1oRwqMqfFXkO",
        "outputId": "34e28274-4d70-4af3-e452-756b35774a2e"
      },
      "execution_count": null,
      "outputs": [
        {
          "output_type": "stream",
          "name": "stdout",
          "text": [
            "GLOBAL_MEMORY_BUS_WIDTH : 256\n"
          ]
        }
      ]
    },
    {
      "cell_type": "code",
      "source": [
        "print(\"MULTIPROCESSOR COUNT :\",getattr(device, 'GLOBAL_MEMORY_BUS_WIDTH'))"
      ],
      "metadata": {
        "colab": {
          "base_uri": "https://localhost:8080/"
        },
        "id": "Bwci_bhuFp3y",
        "outputId": "c97a39b6-b391-4033-90b5-4d8e8f10539c"
      },
      "execution_count": null,
      "outputs": [
        {
          "output_type": "stream",
          "name": "stdout",
          "text": [
            "MULTIPROCESSOR COUNT : 256\n"
          ]
        }
      ]
    }
  ]
}