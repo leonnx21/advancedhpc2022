{
  "nbformat": 4,
  "nbformat_minor": 0,
  "metadata": {
    "colab": {
      "provenance": []
    },
    "kernelspec": {
      "name": "python3",
      "display_name": "Python 3"
    },
    "language_info": {
      "name": "python"
    },
    "accelerator": "GPU",
    "gpuClass": "standard"
  },
  "cells": [
    {
      "cell_type": "code",
      "execution_count": 1,
      "metadata": {
        "id": "B-NSCNEXkliO"
      },
      "outputs": [],
      "source": [
        "from numba import cuda\n",
        "import matplotlib.pyplot as plt\n",
        "import numpy as np\n",
        "import time\n",
        "import math\n",
        "from PIL import Image"
      ]
    },
    {
      "cell_type": "code",
      "source": [
        "from google.colab import drive\n",
        "drive.mount('/content/drive')"
      ],
      "metadata": {
        "colab": {
          "base_uri": "https://localhost:8080/"
        },
        "id": "uYdnOd-hug3d",
        "outputId": "00d03cec-5f08-4041-aa47-da9df6b5e158"
      },
      "execution_count": 2,
      "outputs": [
        {
          "output_type": "stream",
          "name": "stdout",
          "text": [
            "Drive already mounted at /content/drive; to attempt to forcibly remount, call drive.mount(\"/content/drive\", force_remount=True).\n"
          ]
        }
      ]
    },
    {
      "cell_type": "code",
      "source": [
        "im = plt.imread(\"/content/drive/MyDrive/Colab Notebooks/image6.jpeg\")"
      ],
      "metadata": {
        "id": "Yxa-312hZ7et"
      },
      "execution_count": 4,
      "outputs": []
    },
    {
      "cell_type": "code",
      "source": [
        "shape = np.shape(im)"
      ],
      "metadata": {
        "id": "i7eDKLdkulps"
      },
      "execution_count": 5,
      "outputs": []
    },
    {
      "cell_type": "code",
      "source": [
        "filter = np.array(((0,0,1,2,1,0,0),\n",
        "(0,3,13,22,13,3,0),\n",
        "(1,13,59,97,59,13,1),\n",
        "(2,22,97,159,97,22,2),\n",
        "(1,13,59,97,59,13,1),\n",
        "(0,3,13,22,13,3,0),\n",
        "(0,0,1,2,1,0,0)))"
      ],
      "metadata": {
        "id": "iF9N2mJOwfF3"
      },
      "execution_count": 6,
      "outputs": []
    },
    {
      "cell_type": "code",
      "source": [
        "total = sum(sum(filter))\n",
        "total"
      ],
      "metadata": {
        "colab": {
          "base_uri": "https://localhost:8080/"
        },
        "id": "dDBv1kuZUKgo",
        "outputId": "6983de5f-3b0b-4a87-e45b-542461afe556"
      },
      "execution_count": 7,
      "outputs": [
        {
          "output_type": "execute_result",
          "data": {
            "text/plain": [
              "1003"
            ]
          },
          "metadata": {},
          "execution_count": 7
        }
      ]
    },
    {
      "cell_type": "code",
      "source": [
        "filter2 = filter/total\n",
        "filter2"
      ],
      "metadata": {
        "colab": {
          "base_uri": "https://localhost:8080/"
        },
        "id": "8Mv-7dQkENRE",
        "outputId": "24900f00-2abd-40dd-8662-09933b575742"
      },
      "execution_count": 8,
      "outputs": [
        {
          "output_type": "execute_result",
          "data": {
            "text/plain": [
              "array([[0.        , 0.        , 0.00099701, 0.00199402, 0.00099701,\n",
              "        0.        , 0.        ],\n",
              "       [0.        , 0.00299103, 0.01296112, 0.0219342 , 0.01296112,\n",
              "        0.00299103, 0.        ],\n",
              "       [0.00099701, 0.01296112, 0.05882353, 0.09670987, 0.05882353,\n",
              "        0.01296112, 0.00099701],\n",
              "       [0.00199402, 0.0219342 , 0.09670987, 0.15852443, 0.09670987,\n",
              "        0.0219342 , 0.00199402],\n",
              "       [0.00099701, 0.01296112, 0.05882353, 0.09670987, 0.05882353,\n",
              "        0.01296112, 0.00099701],\n",
              "       [0.        , 0.00299103, 0.01296112, 0.0219342 , 0.01296112,\n",
              "        0.00299103, 0.        ],\n",
              "       [0.        , 0.        , 0.00099701, 0.00199402, 0.00099701,\n",
              "        0.        , 0.        ]])"
            ]
          },
          "metadata": {},
          "execution_count": 8
        }
      ]
    },
    {
      "cell_type": "code",
      "source": [
        "im2 = im.copy()"
      ],
      "metadata": {
        "id": "EqEtUCm6zM-p"
      },
      "execution_count": 9,
      "outputs": []
    },
    {
      "cell_type": "code",
      "source": [
        "#first version CPU\n",
        "\"\"\"\n",
        "for x in range(3,shape[0]-3):\n",
        "  for y in range(3,shape[1]-3):\n",
        "    r = 0\n",
        "    g = 0\n",
        "    b = 0\n",
        "\n",
        "    for ni, i in enumerate(range(-3,3)):\n",
        "        for nj, j in enumerate(range(-3,3)):\n",
        "          r+=(im[x+i,y+j,0]*filter2[ni,nj])\n",
        "          g+=(im[x+i,y+j,1]*filter2[ni,nj])\n",
        "          b+=(im[x+i,y+j,2]*filter2[ni,nj])\n",
        "\n",
        "    im2[x,y,0] = r\n",
        "    im2[x,y,1] = g\n",
        "    im2[x,y,2] = b\n",
        "\"\"\""
      ],
      "metadata": {
        "colab": {
          "base_uri": "https://localhost:8080/",
          "height": 73
        },
        "id": "V9_jHE3Jux7Z",
        "outputId": "9338a1b4-45f9-48ae-a53f-1683ffdb5f39"
      },
      "execution_count": 10,
      "outputs": [
        {
          "output_type": "execute_result",
          "data": {
            "text/plain": [
              "'\\nfor x in range(3,shape[0]-3):\\n  for y in range(3,shape[1]-3):\\n    r = 0\\n    g = 0\\n    b = 0\\n\\n    for ni, i in enumerate(range(-3,3)):\\n        for nj, j in enumerate(range(-3,3)):\\n          r+=(im[x+i,y+j,0]*filter2[ni,nj])\\n          g+=(im[x+i,y+j,1]*filter2[ni,nj])\\n          b+=(im[x+i,y+j,2]*filter2[ni,nj])\\n\\n    im2[x,y,0] = r\\n    im2[x,y,1] = g\\n    im2[x,y,2] = b\\n\\n'"
            ],
            "application/vnd.google.colaboratory.intrinsic+json": {
              "type": "string"
            }
          },
          "metadata": {},
          "execution_count": 10
        }
      ]
    },
    {
      "cell_type": "code",
      "source": [
        "\"\"\"\n",
        "imgpu = Image.fromarray(im2)\n",
        "imgpu.save(\"/content/drive/MyDrive/Colab Notebooks/image_blur_CPU1.jpeg\")\n",
        "\"\"\""
      ],
      "metadata": {
        "colab": {
          "base_uri": "https://localhost:8080/",
          "height": 36
        },
        "id": "nQ3CIXn6zyuo",
        "outputId": "7ffb1bcc-a902-4b38-9713-bb4cb8e0277a"
      },
      "execution_count": 11,
      "outputs": [
        {
          "output_type": "execute_result",
          "data": {
            "text/plain": [
              "'\\nimgpu = Image.fromarray(im2)\\nimgpu.save(\"/content/drive/MyDrive/Colab Notebooks/image_blur_CPU1.jpeg\")\\n'"
            ],
            "application/vnd.google.colaboratory.intrinsic+json": {
              "type": "string"
            }
          },
          "metadata": {},
          "execution_count": 11
        }
      ]
    },
    {
      "cell_type": "code",
      "source": [
        "im3 = im.copy()"
      ],
      "metadata": {
        "id": "ckOrcdN2Mn4n"
      },
      "execution_count": 23,
      "outputs": []
    },
    {
      "cell_type": "code",
      "source": [
        "#Second version CPU\n",
        "def blurfunc(image):\n",
        "  imagecopy = image\n",
        "  for x in range(3,shape[0]-3):\n",
        "    for y in range(3,shape[1]-3):\n",
        "      rgb=[0,0,0]\n",
        "      for ni, i in enumerate(range(-3,3)):\n",
        "        for nj, j in enumerate(range(-3,3)):\n",
        "          rgb+=(image[x+i,y+j]*filter2[ni,nj])\n",
        "          \n",
        "      imagecopy[x,y] = rgb\n",
        "\n",
        "  return imagecopy\n",
        "  "
      ],
      "metadata": {
        "id": "4i5GkI-8Mc39"
      },
      "execution_count": 24,
      "outputs": []
    },
    {
      "cell_type": "code",
      "source": [
        "for i in range(10):\n",
        "  im3 = blurfunc(im3)\n",
        "\n",
        "imgpu = Image.fromarray(im3)\n",
        "imgpu.save(\"/content/drive/MyDrive/Colab Notebooks/image_blur_CPU3.jpeg\")"
      ],
      "metadata": {
        "id": "vmZDWDlbMynE"
      },
      "execution_count": 25,
      "outputs": []
    },
    {
      "cell_type": "code",
      "source": [
        "#GPU1\n",
        "\n",
        "@cuda.jit\n",
        "def blurgpu1(kernel, src, dst):\n",
        "  tidx = cuda.threadIdx.x + cuda.blockIdx.x * cuda.blockDim.x\n",
        "  tidy = cuda.threadIdx.y + cuda.blockIdx.y * cuda.blockDim.y\n",
        "\n",
        "  \n",
        "\n",
        "  blur = np.uint8(src[tidx, tidy]*)\n",
        "  dst[tidx, tidy] = g"
      ],
      "metadata": {
        "id": "qAaYVovj11_5"
      },
      "execution_count": null,
      "outputs": []
    }
  ]
}