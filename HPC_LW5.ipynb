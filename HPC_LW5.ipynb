{
  "nbformat": 4,
  "nbformat_minor": 0,
  "metadata": {
    "colab": {
      "provenance": []
    },
    "kernelspec": {
      "name": "python3",
      "display_name": "Python 3"
    },
    "language_info": {
      "name": "python"
    },
    "accelerator": "GPU",
    "gpuClass": "standard"
  },
  "cells": [
    {
      "cell_type": "code",
      "execution_count": 37,
      "metadata": {
        "id": "B-NSCNEXkliO"
      },
      "outputs": [],
      "source": [
        "from numba import cuda\n",
        "import matplotlib.pyplot as plt\n",
        "import numpy as np\n",
        "import time\n",
        "import math\n",
        "from PIL import Image"
      ]
    },
    {
      "cell_type": "code",
      "source": [
        "from google.colab import drive\n",
        "drive.mount('/content/drive')"
      ],
      "metadata": {
        "colab": {
          "base_uri": "https://localhost:8080/"
        },
        "id": "uYdnOd-hug3d",
        "outputId": "406ec148-a5a2-4da0-c932-c8d17c7ec7a8"
      },
      "execution_count": 38,
      "outputs": [
        {
          "output_type": "stream",
          "name": "stdout",
          "text": [
            "Drive already mounted at /content/drive; to attempt to forcibly remount, call drive.mount(\"/content/drive\", force_remount=True).\n"
          ]
        }
      ]
    },
    {
      "cell_type": "code",
      "source": [
        "im = plt.imread(\"/content/drive/MyDrive/Colab Notebooks/image6.jpeg\")"
      ],
      "metadata": {
        "id": "Yxa-312hZ7et"
      },
      "execution_count": 39,
      "outputs": []
    },
    {
      "cell_type": "code",
      "source": [
        "shape = np.shape(im)"
      ],
      "metadata": {
        "id": "i7eDKLdkulps"
      },
      "execution_count": 40,
      "outputs": []
    },
    {
      "cell_type": "code",
      "source": [
        "filter = np.array(((0,0,1,2,1,0,0),\n",
        "(0,3,13,22,13,3,0),\n",
        "(1,13,59,97,59,13,1),\n",
        "(2,22,97,159,97,22,2),\n",
        "(1,13,59,97,59,13,1),\n",
        "(0,3,13,22,13,3,0),\n",
        "(0,0,1,2,1,0,0)))"
      ],
      "metadata": {
        "id": "iF9N2mJOwfF3"
      },
      "execution_count": 41,
      "outputs": []
    },
    {
      "cell_type": "code",
      "source": [
        "total = sum(sum(filter))\n",
        "total"
      ],
      "metadata": {
        "colab": {
          "base_uri": "https://localhost:8080/"
        },
        "id": "dDBv1kuZUKgo",
        "outputId": "2f3fb481-dac7-41a6-ef32-63474fbb18fa"
      },
      "execution_count": 42,
      "outputs": [
        {
          "output_type": "execute_result",
          "data": {
            "text/plain": [
              "1003"
            ]
          },
          "metadata": {},
          "execution_count": 42
        }
      ]
    },
    {
      "cell_type": "code",
      "source": [
        "filter2 = filter/total\n",
        "filter2"
      ],
      "metadata": {
        "colab": {
          "base_uri": "https://localhost:8080/"
        },
        "id": "8Mv-7dQkENRE",
        "outputId": "9de02031-5346-4864-bbfb-ab48722c346e"
      },
      "execution_count": 43,
      "outputs": [
        {
          "output_type": "execute_result",
          "data": {
            "text/plain": [
              "array([[0.        , 0.        , 0.00099701, 0.00199402, 0.00099701,\n",
              "        0.        , 0.        ],\n",
              "       [0.        , 0.00299103, 0.01296112, 0.0219342 , 0.01296112,\n",
              "        0.00299103, 0.        ],\n",
              "       [0.00099701, 0.01296112, 0.05882353, 0.09670987, 0.05882353,\n",
              "        0.01296112, 0.00099701],\n",
              "       [0.00199402, 0.0219342 , 0.09670987, 0.15852443, 0.09670987,\n",
              "        0.0219342 , 0.00199402],\n",
              "       [0.00099701, 0.01296112, 0.05882353, 0.09670987, 0.05882353,\n",
              "        0.01296112, 0.00099701],\n",
              "       [0.        , 0.00299103, 0.01296112, 0.0219342 , 0.01296112,\n",
              "        0.00299103, 0.        ],\n",
              "       [0.        , 0.        , 0.00099701, 0.00199402, 0.00099701,\n",
              "        0.        , 0.        ]])"
            ]
          },
          "metadata": {},
          "execution_count": 43
        }
      ]
    },
    {
      "cell_type": "code",
      "source": [
        "im2 = im.copy()"
      ],
      "metadata": {
        "id": "EqEtUCm6zM-p"
      },
      "execution_count": 44,
      "outputs": []
    },
    {
      "cell_type": "code",
      "source": [
        "#first version CPU\n",
        "\"\"\"\n",
        "for x in range(3,shape[0]-3):\n",
        "  for y in range(3,shape[1]-3):\n",
        "    r = 0\n",
        "    g = 0\n",
        "    b = 0\n",
        "\n",
        "    for ni, i in enumerate(range(-3,3)):\n",
        "        for nj, j in enumerate(range(-3,3)):\n",
        "          r+=(im[x+i,y+j,0]*filter2[ni,nj])\n",
        "          g+=(im[x+i,y+j,1]*filter2[ni,nj])\n",
        "          b+=(im[x+i,y+j,2]*filter2[ni,nj])\n",
        "\n",
        "    im2[x,y,0] = r\n",
        "    im2[x,y,1] = g\n",
        "    im2[x,y,2] = b\n",
        "\"\"\""
      ],
      "metadata": {
        "colab": {
          "base_uri": "https://localhost:8080/",
          "height": 73
        },
        "id": "V9_jHE3Jux7Z",
        "outputId": "977514c2-20aa-40a1-b3b2-808666ac5104"
      },
      "execution_count": 45,
      "outputs": [
        {
          "output_type": "execute_result",
          "data": {
            "text/plain": [
              "'\\nfor x in range(3,shape[0]-3):\\n  for y in range(3,shape[1]-3):\\n    r = 0\\n    g = 0\\n    b = 0\\n\\n    for ni, i in enumerate(range(-3,3)):\\n        for nj, j in enumerate(range(-3,3)):\\n          r+=(im[x+i,y+j,0]*filter2[ni,nj])\\n          g+=(im[x+i,y+j,1]*filter2[ni,nj])\\n          b+=(im[x+i,y+j,2]*filter2[ni,nj])\\n\\n    im2[x,y,0] = r\\n    im2[x,y,1] = g\\n    im2[x,y,2] = b\\n'"
            ],
            "application/vnd.google.colaboratory.intrinsic+json": {
              "type": "string"
            }
          },
          "metadata": {},
          "execution_count": 45
        }
      ]
    },
    {
      "cell_type": "code",
      "source": [
        "\"\"\"\n",
        "imgpu = Image.fromarray(im2)\n",
        "imgpu.save(\"/content/drive/MyDrive/Colab Notebooks/image_blur_CPU1.jpeg\")\n",
        "\"\"\""
      ],
      "metadata": {
        "colab": {
          "base_uri": "https://localhost:8080/",
          "height": 36
        },
        "id": "nQ3CIXn6zyuo",
        "outputId": "aabdb9a5-6d65-450d-b18d-e4856e7fec13"
      },
      "execution_count": 46,
      "outputs": [
        {
          "output_type": "execute_result",
          "data": {
            "text/plain": [
              "'\\nimgpu = Image.fromarray(im2)\\nimgpu.save(\"/content/drive/MyDrive/Colab Notebooks/image_blur_CPU1.jpeg\")\\n'"
            ],
            "application/vnd.google.colaboratory.intrinsic+json": {
              "type": "string"
            }
          },
          "metadata": {},
          "execution_count": 46
        }
      ]
    },
    {
      "cell_type": "code",
      "source": [
        "im3 = im.copy()"
      ],
      "metadata": {
        "id": "ckOrcdN2Mn4n"
      },
      "execution_count": 47,
      "outputs": []
    },
    {
      "cell_type": "code",
      "source": [
        "\n",
        "#Second version CPU\n",
        "def blurfunc(image):\n",
        "  imagecopy = image\n",
        "  for x in range(3,shape[0]-3):\n",
        "    for y in range(3,shape[1]-3):\n",
        "      rgb=[0,0,0]\n",
        "      for ni, i in enumerate(range(-3,3)):\n",
        "        for nj, j in enumerate(range(-3,3)):\n",
        "          rgb+=(image[x+i,y+j]*filter2[ni,nj])\n",
        "          \n",
        "      imagecopy[x,y] = rgb\n",
        "\n",
        "  return imagecopy  "
      ],
      "metadata": {
        "id": "4i5GkI-8Mc39",
        "colab": {
          "base_uri": "https://localhost:8080/",
          "height": 73
        },
        "outputId": "356e2b8d-1ad3-4191-ec51-729867802690"
      },
      "execution_count": 48,
      "outputs": [
        {
          "output_type": "execute_result",
          "data": {
            "text/plain": [
              "'\\n#Second version CPU\\ndef blurfunc(image):\\n  imagecopy = image\\n  for x in range(3,shape[0]-3):\\n    for y in range(3,shape[1]-3):\\n      rgb=[0,0,0]\\n      for ni, i in enumerate(range(-3,3)):\\n        for nj, j in enumerate(range(-3,3)):\\n          rgb+=(image[x+i,y+j]*filter2[ni,nj])\\n          \\n      imagecopy[x,y] = rgb\\n\\n  return imagecopy\\n'"
            ],
            "application/vnd.google.colaboratory.intrinsic+json": {
              "type": "string"
            }
          },
          "metadata": {},
          "execution_count": 48
        }
      ]
    },
    {
      "cell_type": "code",
      "source": [
        "\n",
        "for i in range(10):\n",
        "  im3 = blurfunc(im3)\n",
        "\n",
        "imgpu = Image.fromarray(im3)\n",
        "imgpu.save(\"/content/drive/MyDrive/Colab Notebooks/image_blur_CPU3.jpeg\")\n"
      ],
      "metadata": {
        "id": "vmZDWDlbMynE",
        "colab": {
          "base_uri": "https://localhost:8080/",
          "height": 36
        },
        "outputId": "e92383a7-cd2f-42bd-b1e3-08001bbe2823"
      },
      "execution_count": 49,
      "outputs": [
        {
          "output_type": "execute_result",
          "data": {
            "text/plain": [
              "'\\nfor i in range(10):\\n  im3 = blurfunc(im3)\\n\\nimgpu = Image.fromarray(im3)\\nimgpu.save(\"/content/drive/MyDrive/Colab Notebooks/image_blur_CPU3.jpeg\")\\n'"
            ],
            "application/vnd.google.colaboratory.intrinsic+json": {
              "type": "string"
            }
          },
          "metadata": {},
          "execution_count": 49
        }
      ]
    },
    {
      "cell_type": "code",
      "source": [],
      "metadata": {
        "id": "5M5ZaI6nEG4n"
      },
      "execution_count": 84,
      "outputs": []
    },
    {
      "cell_type": "code",
      "source": [
        "@cuda.jit\n",
        "def blurgpu1(kernel, src, dst):\n",
        "  tidx = cuda.threadIdx.x + cuda.blockIdx.x * cuda.blockDim.x\n",
        "  tidy = cuda.threadIdx.y + cuda.blockIdx.y * cuda.blockDim.y\n",
        "  r = 0\n",
        "  g = 0\n",
        "  b = 0\n",
        "\n",
        "  for ni, i in enumerate(range(-3,3)):\n",
        "    for nj, j in enumerate(range(-3,3)):\n",
        "      r+= (src[tidx+i,tidy+j,0]*kernel[ni,nj])\n",
        "      g+= (src[tidx+i,tidy+j,1]*kernel[ni,nj])\n",
        "      b+= (src[tidx+i,tidy+j,2]*kernel[ni,nj])\n",
        "  \n",
        "  dst[tidx, tidy, 0 ] = np.uint8(r)\n",
        "  dst[tidx, tidy, 1 ] = np.uint8(g)\n",
        "  dst[tidx, tidy, 2 ] = np.uint8(b)"
      ],
      "metadata": {
        "id": "GVk__1dnDhck"
      },
      "execution_count": 174,
      "outputs": []
    },
    {
      "cell_type": "code",
      "source": [
        "#GPU1\n",
        "def GPUblurfunc(im, filter):\n",
        "  devdata = cuda.to_device(im)\n",
        "  devOuput = cuda.device_array(shape, np.uint8)\n",
        "  kerneldev = cuda.to_device(filter)\n",
        "\n",
        "  shape1 = np.shape(im)\n",
        "  blockSize = (16,16)\n",
        "  gridSize = (math.ceil(shape1[0]/blockSize[0]),math.ceil(shape1[1]/blockSize[1]))\n",
        "  blurgpu1[gridSize, blockSize](kerneldev ,devdata, devOuput)\n",
        "\n",
        "  result = devOuput.copy_to_host()\n",
        "\n",
        "  return result"
      ],
      "metadata": {
        "id": "qAaYVovj11_5"
      },
      "execution_count": 183,
      "outputs": []
    },
    {
      "cell_type": "code",
      "source": [
        "im3 = im.copy()\n",
        "\n",
        "for i in range(10):\n",
        "  im3 = GPUblurfunc(im3,filter2)\n",
        "\n",
        "imgpu = Image.fromarray(im3)\n",
        "imgpu.save(\"/content/drive/MyDrive/Colab Notebooks/image_blur_GPU.jpeg\")"
      ],
      "metadata": {
        "id": "4WxN9W-f9dME"
      },
      "execution_count": 197,
      "outputs": []
    },
    {
      "cell_type": "code",
      "source": [
        "imgpu"
      ],
      "metadata": {
        "colab": {
          "base_uri": "https://localhost:8080/",
          "height": 245
        },
        "id": "68MxTuC7A9zb",
        "outputId": "1626b88b-78f5-4b59-aeef-06c5dcd4ea04"
      },
      "execution_count": 198,
      "outputs": [
        {
          "output_type": "execute_result",
          "data": {
            "text/plain": [
              "<PIL.Image.Image image mode=RGB size=221x228 at 0x7FC2B1489F10>"
            ],
            "image/png": "[encoded data removed]"
          },
          "metadata": {},
          "execution_count": 198
        }
      ]
    },
    {
      "cell_type": "markdown",
      "source": [
        "#With shared filter"
      ],
      "metadata": {
        "id": "7DR0sQjjUmF5"
      }
    },
    {
      "cell_type": "code",
      "source": [
        "@cuda.jit\n",
        "def blurgpu2(kernel, src, dst):\n",
        "  tile = cuda.shared.array((7,7),np.float64)\n",
        "  tidx = cuda.threadIdx.x + cuda.blockIdx.x * cuda.blockDim.x\n",
        "  tidy = cuda.threadIdx.y + cuda.blockIdx.y * cuda.blockDim.y\n",
        " \n",
        "  tile = kernel\n",
        "  \n",
        "  r = 0\n",
        "  g = 0\n",
        "  b = 0\n",
        "\n",
        "  for ni, i in enumerate(range(-3,3)):\n",
        "    for nj, j in enumerate(range(-3,3)):\n",
        "      r+= (src[tidx+i,tidy+j,0]*tile[ni,nj])\n",
        "      g+= (src[tidx+i,tidy+j,1]*tile[ni,nj])\n",
        "      b+= (src[tidx+i,tidy+j,2]*tile[ni,nj])\n",
        "  \n",
        "  dst[tidx, tidy, 0 ] = np.uint8(r)\n",
        "  dst[tidx, tidy, 1 ] = np.uint8(g)\n",
        "  dst[tidx, tidy, 2 ] = np.uint8(b)\n",
        "\n",
        "  cuda.syncthreads()"
      ],
      "metadata": {
        "id": "srkKj6xIHnnf"
      },
      "execution_count": 188,
      "outputs": []
    },
    {
      "cell_type": "code",
      "source": [
        "#GPU2\n",
        "def GPUblurfunc2(im, filter):\n",
        "  devdata = cuda.to_device(im)\n",
        "  devOuput = cuda.device_array(shape, np.uint8)\n",
        "  kerneldev = cuda.to_device(filter)\n",
        "\n",
        "  shape1 = np.shape(im)\n",
        "  blockSize = (16,16)\n",
        "  gridSize = (math.ceil(shape1[0]/blockSize[0]),math.ceil(shape1[1]/blockSize[1]))\n",
        "  blurgpu2[gridSize, blockSize](kerneldev ,devdata, devOuput)\n",
        "\n",
        "  result = devOuput.copy_to_host()\n",
        "\n",
        "  return result\n"
      ],
      "metadata": {
        "id": "tLyfRFW8H0g0"
      },
      "execution_count": 192,
      "outputs": []
    },
    {
      "cell_type": "code",
      "source": [
        "im5 = im.copy()\n",
        "\n",
        "for i in range(20):\n",
        "  im5 = GPUblurfunc2(im5,filter2)\n",
        "\n",
        "imgpu2 = Image.fromarray(im5)\n",
        "imgpu2.save(\"/content/drive/MyDrive/Colab Notebooks/image_blur_GPU2.jpeg\")"
      ],
      "metadata": {
        "id": "vGXZ2D2MIBXy"
      },
      "execution_count": 199,
      "outputs": []
    },
    {
      "cell_type": "code",
      "source": [
        "imgpu2"
      ],
      "metadata": {
        "colab": {
          "base_uri": "https://localhost:8080/",
          "height": 245
        },
        "id": "vSKstf3rVZlc",
        "outputId": "654f0157-a44f-4bd5-fa5d-633a00427811"
      },
      "execution_count": 200,
      "outputs": [
        {
          "output_type": "execute_result",
          "data": {
            "text/plain": [
              "<PIL.Image.Image image mode=RGB size=221x228 at 0x7FC2B0D3D310>"
            ],
            "image/png": "[encoded data removed]"
          },
          "metadata": {},
          "execution_count": 200
        }
      ]
    }
  ]
}