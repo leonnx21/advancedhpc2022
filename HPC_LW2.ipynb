{
  "nbformat": 4,
  "nbformat_minor": 0,
  "metadata": {
    "colab": {
      "provenance": []
    },
    "kernelspec": {
      "name": "python3",
      "display_name": "Python 3"
    },
    "language_info": {
      "name": "python"
    },
    "accelerator": "GPU",
    "gpuClass": "standard"
  },
  "cells": [
    {
      "cell_type": "code",
      "execution_count": 1,
      "metadata": {
        "id": "CcwqOVqcsp0m"
      },
      "outputs": [],
      "source": [
        "from numba import cuda\n",
        "import matplotlib.pyplot as plt\n",
        "import numpy as np\n",
        "import time"
      ]
    },
    {
      "cell_type": "code",
      "source": [
        "from google.colab import drive\n",
        "drive.mount('/content/drive')\n"
      ],
      "metadata": {
        "colab": {
          "base_uri": "https://localhost:8080/"
        },
        "id": "tkiwWGwDtDzI",
        "outputId": "1b873a7e-335b-48a3-953d-aed1568e6deb"
      },
      "execution_count": 2,
      "outputs": [
        {
          "output_type": "stream",
          "name": "stdout",
          "text": [
            "Drive already mounted at /content/drive; to attempt to forcibly remount, call drive.mount(\"/content/drive\", force_remount=True).\n"
          ]
        }
      ]
    },
    {
      "cell_type": "code",
      "source": [
        "im = plt.imread(\"/content/drive/MyDrive/Colab Notebooks/image.jpg\")"
      ],
      "metadata": {
        "id": "R8wOKBd5tHZl"
      },
      "execution_count": 3,
      "outputs": []
    },
    {
      "cell_type": "code",
      "source": [
        "shape = np.shape(im)\n",
        "shape"
      ],
      "metadata": {
        "colab": {
          "base_uri": "https://localhost:8080/"
        },
        "id": "r8r_uaphtfUw",
        "outputId": "9a8131d3-6f99-4f90-fbf4-1173c1b49404"
      },
      "execution_count": 4,
      "outputs": [
        {
          "output_type": "execute_result",
          "data": {
            "text/plain": [
              "(1080, 1920, 3)"
            ]
          },
          "metadata": {},
          "execution_count": 4
        }
      ]
    },
    {
      "cell_type": "code",
      "source": [
        "imflatten = im.copy().reshape(shape[0]*shape[1],3)"
      ],
      "metadata": {
        "id": "5Rfd-AJotuku"
      },
      "execution_count": 5,
      "outputs": []
    },
    {
      "cell_type": "code",
      "source": [
        "shape2 = np.shape(imflatten)"
      ],
      "metadata": {
        "id": "fvGghNRTuXJF"
      },
      "execution_count": 6,
      "outputs": []
    },
    {
      "cell_type": "code",
      "source": [
        "t1 = time.time()\n",
        "\n",
        "for i in imflatten:\n",
        "  gray = ((i[0]+i[1]+[2])/3)\n",
        "  i[0], i[1], i[2] = gray, gray, gray\n",
        "\n",
        "t2 = time.time()\n",
        "\n",
        "print(t2-t1)\n"
      ],
      "metadata": {
        "colab": {
          "base_uri": "https://localhost:8080/"
        },
        "id": "AD4MzkMSvH8F",
        "outputId": "a8c4f72e-3e36-4e74-bfd8-9a18917d0cfc"
      },
      "execution_count": 7,
      "outputs": [
        {
          "output_type": "stream",
          "name": "stderr",
          "text": [
            "<ipython-input-7-f808397ba390>:4: RuntimeWarning: overflow encountered in ubyte_scalars\n",
            "  gray = ((i[0]+i[1]+[2])/3)\n"
          ]
        },
        {
          "output_type": "stream",
          "name": "stdout",
          "text": [
            "20.037894248962402\n"
          ]
        }
      ]
    },
    {
      "cell_type": "code",
      "source": [
        "imgray1 = imflatten.reshape(1080, 1920, 3)"
      ],
      "metadata": {
        "id": "Ug8Tip_pwySy"
      },
      "execution_count": 8,
      "outputs": []
    },
    {
      "cell_type": "code",
      "source": [
        "from PIL import Image\n",
        "imcpu = Image.fromarray(imgray1)\n",
        "imcpu.save(\"/content/drive/MyDrive/Colab Notebooks/image_gray_CPU.jpeg\")"
      ],
      "metadata": {
        "id": "qW0yqkWwxG1Q"
      },
      "execution_count": 9,
      "outputs": []
    },
    {
      "cell_type": "code",
      "source": [
        "cuda.is_available()"
      ],
      "metadata": {
        "colab": {
          "base_uri": "https://localhost:8080/"
        },
        "id": "q4_WYFyTz5qn",
        "outputId": "da4f959c-488c-41d9-a691-ec87d6ac234f"
      },
      "execution_count": 10,
      "outputs": [
        {
          "output_type": "execute_result",
          "data": {
            "text/plain": [
              "True"
            ]
          },
          "metadata": {},
          "execution_count": 10
        }
      ]
    },
    {
      "cell_type": "code",
      "source": [
        "imflatten2 = im.copy().reshape(shape[0]*shape[1],3)"
      ],
      "metadata": {
        "id": "_hDm_zGzkGQh"
      },
      "execution_count": 11,
      "outputs": []
    },
    {
      "cell_type": "code",
      "source": [
        "shape3 = np.shape(imflatten2)"
      ],
      "metadata": {
        "id": "HIy16j3DkIIv"
      },
      "execution_count": 12,
      "outputs": []
    },
    {
      "cell_type": "code",
      "source": [
        "devdata = cuda.to_device(imflatten2)\n",
        "devOuput = cuda.device_array(shape3, np.uint8)"
      ],
      "metadata": {
        "id": "tmeUVKxFyaQ0"
      },
      "execution_count": 13,
      "outputs": []
    },
    {
      "cell_type": "code",
      "source": [
        "@cuda.jit\n",
        "def grayscale(src, dst):\n",
        "# where are we in the input?\n",
        "  tidx = cuda.threadIdx.x + cuda.blockIdx.x * cuda.blockDim.x\n",
        "  g = np.uint8((src[tidx, 0] + src[tidx, 1] + src[tidx, 2]) / 3)\n",
        "  dst[tidx, 0] = dst[tidx, 1] = dst[tidx, 2] = g"
      ],
      "metadata": {
        "id": "9QmryP2701FP"
      },
      "execution_count": 14,
      "outputs": []
    },
    {
      "cell_type": "code",
      "source": [
        "t3 = time.time()\n",
        "\n",
        "pixelCount = shape[0]*shape[1]\n",
        "blockSize = 64\n",
        "gridSize = int(pixelCount / blockSize)\n",
        "grayscale[gridSize, blockSize](devdata, devOuput)\n",
        "\n",
        "t4 = time.time()\n",
        "\n",
        "print(t4-t3)\n"
      ],
      "metadata": {
        "colab": {
          "base_uri": "https://localhost:8080/"
        },
        "id": "OghwifMs1Iat",
        "outputId": "9adede72-d205-4201-914c-3f23449f8509"
      },
      "execution_count": 15,
      "outputs": [
        {
          "output_type": "stream",
          "name": "stdout",
          "text": [
            "0.15651202201843262\n"
          ]
        }
      ]
    },
    {
      "cell_type": "code",
      "source": [
        "imgray2 = devOuput.copy_to_host()\n",
        "imgray3 = imgray2.reshape(1080, 1920, 3)\n",
        "imgpu = Image.fromarray(imgray3)\n",
        "imgpu.save(\"/content/drive/MyDrive/Colab Notebooks/image_gray_GPU.jpeg\")"
      ],
      "metadata": {
        "id": "YzU6e9M5gDyw"
      },
      "execution_count": 16,
      "outputs": []
    }
  ]
}