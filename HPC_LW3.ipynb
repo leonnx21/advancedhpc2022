{
  "nbformat": 4,
  "nbformat_minor": 0,
  "metadata": {
    "colab": {
      "provenance": []
    },
    "kernelspec": {
      "name": "python3",
      "display_name": "Python 3"
    },
    "language_info": {
      "name": "python"
    },
    "accelerator": "GPU",
    "gpuClass": "standard"
  },
  "cells": [
    {
      "cell_type": "code",
      "execution_count": 1,
      "metadata": {
        "id": "CcwqOVqcsp0m"
      },
      "outputs": [],
      "source": [
        "from numba import cuda\n",
        "import matplotlib.pyplot as plt\n",
        "import numpy as np\n",
        "import time\n",
        "import math\n",
        "from PIL import Image\n"
      ]
    },
    {
      "cell_type": "code",
      "source": [
        "from google.colab import drive\n",
        "drive.mount('/content/drive')\n"
      ],
      "metadata": {
        "colab": {
          "base_uri": "https://localhost:8080/"
        },
        "id": "tkiwWGwDtDzI",
        "outputId": "1401d7c9-4707-4164-f5b3-5f261d8ecacd"
      },
      "execution_count": 2,
      "outputs": [
        {
          "output_type": "stream",
          "name": "stdout",
          "text": [
            "Drive already mounted at /content/drive; to attempt to forcibly remount, call drive.mount(\"/content/drive\", force_remount=True).\n"
          ]
        }
      ]
    },
    {
      "cell_type": "code",
      "source": [
        "im = plt.imread(\"/content/drive/MyDrive/Colab Notebooks/image.jpg\")"
      ],
      "metadata": {
        "id": "R8wOKBd5tHZl"
      },
      "execution_count": 3,
      "outputs": []
    },
    {
      "cell_type": "code",
      "source": [
        "shape = np.shape(im)\n",
        "shape"
      ],
      "metadata": {
        "id": "r8r_uaphtfUw",
        "colab": {
          "base_uri": "https://localhost:8080/"
        },
        "outputId": "f13f4b21-44c0-4650-9c48-5d316295f810"
      },
      "execution_count": 4,
      "outputs": [
        {
          "output_type": "execute_result",
          "data": {
            "text/plain": [
              "(1080, 1920, 3)"
            ]
          },
          "metadata": {},
          "execution_count": 4
        }
      ]
    },
    {
      "cell_type": "code",
      "source": [
        "devdata = cuda.to_device(im)\n",
        "devOuput = cuda.device_array(shape, np.uint8)"
      ],
      "metadata": {
        "id": "tmeUVKxFyaQ0"
      },
      "execution_count": 5,
      "outputs": []
    },
    {
      "cell_type": "code",
      "source": [
        "\n",
        "@cuda.jit\n",
        "def grayscale(src, dst):\n",
        "  tidx = cuda.threadIdx.x + cuda.blockIdx.x * cuda.blockDim.x\n",
        "  tidy = cuda.threadIdx.y + cuda.blockIdx.y * cuda.blockDim.y\n",
        "\n",
        "  g = np.uint8((src[tidx, tidy, 0] + src[tidx, tidy, 1] + src[tidx, tidy, 2]) / 3)\n",
        "  dst[tidx, tidy, 0] = dst[tidx, tidy, 1] = dst[tidx, tidy, 2] = g"
      ],
      "metadata": {
        "id": "9QmryP2701FP"
      },
      "execution_count": 6,
      "outputs": []
    },
    {
      "cell_type": "code",
      "source": [
        "def testfunc(x):\n",
        "  t1 = time.time()\n",
        "  blockSize = (x, x)\n",
        "  gridSize = (math.ceil(shape[0]/blockSize[0]),math.ceil(shape[1]/blockSize[1]))\n",
        "  grayscale[gridSize, blockSize](devdata, devOuput)\n",
        "  t2 = time.time()\n",
        "  t = t2 - t1\n",
        "\n",
        "  return t\n"
      ],
      "metadata": {
        "id": "OghwifMs1Iat"
      },
      "execution_count": 7,
      "outputs": []
    },
    {
      "cell_type": "code",
      "source": [
        "x =  list(range(1, 33))\n",
        "result = []\n",
        "\n",
        "for i in x:\n",
        "  t3 = testfunc(i)\n",
        "  result.append(t3)\n",
        "\n"
      ],
      "metadata": {
        "id": "pKoHztSlt4e2"
      },
      "execution_count": 8,
      "outputs": []
    },
    {
      "cell_type": "code",
      "source": [
        "plt.bar(x, result)\n",
        "plt.yscale(\"log\")"
      ],
      "metadata": {
        "colab": {
          "base_uri": "https://localhost:8080/",
          "height": 265
        },
        "id": "sNpvhqdGuuvZ",
        "outputId": "b447abf8-d20e-4dfd-f317-9879f082e5cc"
      },
      "execution_count": 9,
      "outputs": [
        {
          "output_type": "display_data",
          "data": {
            "text/plain": [
              "<Figure size 432x288 with 1 Axes>"
            ],
            "image/png": "[encoded data removed]"
          },
          "metadata": {
            "needs_background": "light"
          }
        }
      ]
    },
    {
      "cell_type": "code",
      "source": [],
      "metadata": {
        "id": "tBCs6M-SxDyt"
      },
      "execution_count": null,
      "outputs": []
    },
    {
      "cell_type": "code",
      "source": [
        "result"
      ],
      "metadata": {
        "colab": {
          "base_uri": "https://localhost:8080/"
        },
        "id": "6-Vo8o5Hvvlh",
        "outputId": "80c57261-c4ab-4e25-d371-5b57cfbd0e90"
      },
      "execution_count": 10,
      "outputs": [
        {
          "output_type": "execute_result",
          "data": {
            "text/plain": [
              "[0.20613360404968262,\n",
              " 0.00024390220642089844,\n",
              " 0.0001633167266845703,\n",
              " 0.0001518726348876953,\n",
              " 0.00019598007202148438,\n",
              " 0.00015735626220703125,\n",
              " 0.00016045570373535156,\n",
              " 0.0001633167266845703,\n",
              " 0.00014901161193847656,\n",
              " 0.0001461505889892578,\n",
              " 0.00015687942504882812,\n",
              " 0.0003006458282470703,\n",
              " 0.0001685619354248047,\n",
              " 8.296966552734375e-05,\n",
              " 7.128715515136719e-05,\n",
              " 6.866455078125e-05,\n",
              " 6.723403930664062e-05,\n",
              " 6.508827209472656e-05,\n",
              " 6.461143493652344e-05,\n",
              " 6.556510925292969e-05,\n",
              " 7.724761962890625e-05,\n",
              " 6.651878356933594e-05,\n",
              " 6.413459777832031e-05,\n",
              " 6.461143493652344e-05,\n",
              " 6.4849853515625e-05,\n",
              " 9.965896606445312e-05,\n",
              " 7.653236389160156e-05,\n",
              " 7.224082946777344e-05,\n",
              " 6.961822509765625e-05,\n",
              " 6.508827209472656e-05,\n",
              " 7.367134094238281e-05,\n",
              " 6.031990051269531e-05]"
            ]
          },
          "metadata": {},
          "execution_count": 10
        }
      ]
    },
    {
      "cell_type": "code",
      "source": [
        "#imgray = devOuput.copy_to_host()\n",
        "#imgpu = Image.fromarray(imgray)\n",
        "#imgpu.save(\"/content/drive/MyDrive/Colab Notebooks/image_gray_GPU_2.jpeg\")"
      ],
      "metadata": {
        "id": "YzU6e9M5gDyw"
      },
      "execution_count": 11,
      "outputs": []
    }
  ]
}