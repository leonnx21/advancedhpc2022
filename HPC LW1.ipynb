{
  "nbformat": 4,
  "nbformat_minor": 0,
  "metadata": {
    "colab": {
      "provenance": []
    },
    "kernelspec": {
      "name": "python3",
      "display_name": "Python 3"
    },
    "language_info": {
      "name": "python"
    },
    "accelerator": "GPU",
    "gpuClass": "standard"
  },
  "cells": [
    {
      "cell_type": "code",
      "source": [
        "from numba import cuda\n",
        "print(cuda.gpus)"
      ],
      "metadata": {
        "colab": {
          "base_uri": "https://localhost:8080/"
        },
        "id": "Vu-qhU7Cd0Pp",
        "outputId": "69e2ff95-27e7-4bf5-82a9-1b3bf392cea5"
      },
      "execution_count": 5,
      "outputs": [
        {
          "output_type": "stream",
          "name": "stdout",
          "text": [
            "<Managed Device 0>\n"
          ]
        }
      ]
    },
    {
      "cell_type": "code",
      "source": [
        "cuda.is_available()\n"
      ],
      "metadata": {
        "colab": {
          "base_uri": "https://localhost:8080/"
        },
        "id": "rTz8URbvd400",
        "outputId": "080f88d0-940f-4f8c-b9dd-750b38a532f6"
      },
      "execution_count": 9,
      "outputs": [
        {
          "output_type": "execute_result",
          "data": {
            "text/plain": [
              "True"
            ]
          },
          "metadata": {},
          "execution_count": 9
        }
      ]
    },
    {
      "cell_type": "code",
      "source": [
        "cuda.detect()\n"
      ],
      "metadata": {
        "colab": {
          "base_uri": "https://localhost:8080/"
        },
        "id": "uI3Tv2dSfZJZ",
        "outputId": "2437fcbc-8bb9-4bd8-ba0b-23c3de475524"
      },
      "execution_count": 10,
      "outputs": [
        {
          "output_type": "stream",
          "name": "stdout",
          "text": [
            "Found 1 CUDA devices\n",
            "id 0             b'Tesla T4'                              [SUPPORTED]\n",
            "                      Compute Capability: 7.5\n",
            "                           PCI Device ID: 4\n",
            "                              PCI Bus ID: 0\n",
            "                                    UUID: GPU-9c320a8a-da1e-3b18-7c55-060064962ea0\n",
            "                                Watchdog: Disabled\n",
            "             FP32/FP64 Performance Ratio: 32\n",
            "Summary:\n",
            "\t1/1 devices are supported\n"
          ]
        },
        {
          "output_type": "execute_result",
          "data": {
            "text/plain": [
              "True"
            ]
          },
          "metadata": {},
          "execution_count": 10
        }
      ]
    },
    {
      "cell_type": "code",
      "source": [
        "cuda.gpus"
      ],
      "metadata": {
        "colab": {
          "base_uri": "https://localhost:8080/"
        },
        "id": "OYM0bwnnfftD",
        "outputId": "f2a2086c-9990-45db-fe63-a363ce5d30c7"
      },
      "execution_count": 14,
      "outputs": [
        {
          "output_type": "execute_result",
          "data": {
            "text/plain": [
              "<numba.cuda.cudadrv.devices._DeviceList at 0x7ff1ae7c4130>"
            ]
          },
          "metadata": {},
          "execution_count": 14
        }
      ]
    },
    {
      "cell_type": "code",
      "source": [
        "from numba.cuda.cudadrv import enums\n",
        "device = cuda.get_current_device()\n",
        "attribs= [name.replace(\"CU_DEVICE_ATTRIBUTE_\", \"\") for name in dir(enums) if name.startswith(\"CU_DEVICE_ATTRIBUTE_\")]\n",
        "attribs\n"
      ],
      "metadata": {
        "colab": {
          "base_uri": "https://localhost:8080/"
        },
        "id": "axZPGQnXgLUL",
        "outputId": "58540900-d4c1-49f6-fd59-b80d1824a839"
      },
      "execution_count": 35,
      "outputs": [
        {
          "output_type": "execute_result",
          "data": {
            "text/plain": [
              "['ASYNC_ENGINE_COUNT',\n",
              " 'CAN_MAP_HOST_MEMORY',\n",
              " 'CAN_USE_HOST_POINTER_FOR_REGISTERED_MEM',\n",
              " 'CLOCK_RATE',\n",
              " 'COMPUTE_CAPABILITY_MAJOR',\n",
              " 'COMPUTE_CAPABILITY_MINOR',\n",
              " 'COMPUTE_MODE',\n",
              " 'COMPUTE_PREEMPTION_SUPPORTED',\n",
              " 'CONCURRENT_KERNELS',\n",
              " 'CONCURRENT_MANAGED_ACCESS',\n",
              " 'COOPERATIVE_LAUNCH',\n",
              " 'COOPERATIVE_MULTI_DEVICE_LAUNCH',\n",
              " 'ECC_ENABLED',\n",
              " 'GLOBAL_L1_CACHE_SUPPORTED',\n",
              " 'GLOBAL_MEMORY_BUS_WIDTH',\n",
              " 'GPU_OVERLAP',\n",
              " 'HOST_NATIVE_ATOMIC_SUPPORTED',\n",
              " 'INTEGRATED',\n",
              " 'IS_MULTI_GPU_BOARD',\n",
              " 'KERNEL_EXEC_TIMEOUT',\n",
              " 'L2_CACHE_SIZE',\n",
              " 'LOCAL_L1_CACHE_SUPPORTED',\n",
              " 'MANAGED_MEMORY',\n",
              " 'MAX_BLOCK_DIM_X',\n",
              " 'MAX_BLOCK_DIM_Y',\n",
              " 'MAX_BLOCK_DIM_Z',\n",
              " 'MAX_GRID_DIM_X',\n",
              " 'MAX_GRID_DIM_Y',\n",
              " 'MAX_GRID_DIM_Z',\n",
              " 'MAX_MAX_TEXTURE_2D_MIPMAPPED_HEIGHT',\n",
              " 'MAX_PITCH',\n",
              " 'MAX_REGISTERS_PER_BLOCK',\n",
              " 'MAX_REGISTERS_PER_MULTIPROCESSOR',\n",
              " 'MAX_SHARED_MEMORY_PER_BLOCK',\n",
              " 'MAX_SHARED_MEMORY_PER_BLOCK_OPTIN',\n",
              " 'MAX_SHARED_MEMORY_PER_MULTIPROCESSOR',\n",
              " 'MAX_SURFACE_1D_LAYERED_LAYERS',\n",
              " 'MAX_SURFACE_1D_LAYERED_WIDTH',\n",
              " 'MAX_SURFACE_1D_WIDTH',\n",
              " 'MAX_SURFACE_2D_HEIGHT',\n",
              " 'MAX_SURFACE_2D_LAYERED_HEIGHT',\n",
              " 'MAX_SURFACE_2D_LAYERED_LAYERS',\n",
              " 'MAX_SURFACE_2D_LAYERED_WIDTH',\n",
              " 'MAX_SURFACE_2D_WIDTH',\n",
              " 'MAX_SURFACE_3D_DEPTH',\n",
              " 'MAX_SURFACE_3D_HEIGHT',\n",
              " 'MAX_SURFACE_3D_WIDTH',\n",
              " 'MAX_SURFACE_CUBEMAP_LAYERED_LAYERS',\n",
              " 'MAX_SURFACE_CUBEMAP_LAYERED_WIDTH',\n",
              " 'MAX_SURFACE_CUBEMAP_WIDTH',\n",
              " 'MAX_TEXTURE_1D_LAYERED_LAYERS',\n",
              " 'MAX_TEXTURE_1D_LAYERED_WIDTH',\n",
              " 'MAX_TEXTURE_1D_LINEAR_WIDTH',\n",
              " 'MAX_TEXTURE_1D_MIPMAPPED_WIDTH',\n",
              " 'MAX_TEXTURE_1D_WIDTH',\n",
              " 'MAX_TEXTURE_2D_GATHER_HEIGHT',\n",
              " 'MAX_TEXTURE_2D_GATHER_WIDTH',\n",
              " 'MAX_TEXTURE_2D_HEIGHT',\n",
              " 'MAX_TEXTURE_2D_LAYERED_HEIGHT',\n",
              " 'MAX_TEXTURE_2D_LAYERED_LAYERS',\n",
              " 'MAX_TEXTURE_2D_LAYERED_WIDTH',\n",
              " 'MAX_TEXTURE_2D_LINEAR_HEIGHT',\n",
              " 'MAX_TEXTURE_2D_LINEAR_PITCH',\n",
              " 'MAX_TEXTURE_2D_LINEAR_WIDTH',\n",
              " 'MAX_TEXTURE_2D_MIPMAPPED_WIDTH',\n",
              " 'MAX_TEXTURE_2D_WIDTH',\n",
              " 'MAX_TEXTURE_3D_DEPTH',\n",
              " 'MAX_TEXTURE_3D_DEPTH_ALT',\n",
              " 'MAX_TEXTURE_3D_HEIGHT',\n",
              " 'MAX_TEXTURE_3D_HEIGHT_ALT',\n",
              " 'MAX_TEXTURE_3D_WIDTH',\n",
              " 'MAX_TEXTURE_3D_WIDTH_ALT',\n",
              " 'MAX_TEXTURE_CUBEMAP_LAYERED_LAYERS',\n",
              " 'MAX_TEXTURE_CUBEMAP_LAYERED_WIDTH',\n",
              " 'MAX_TEXTURE_CUBEMAP_WIDTH',\n",
              " 'MAX_THREADS_PER_BLOCK',\n",
              " 'MAX_THREADS_PER_MULTI_PROCESSOR',\n",
              " 'MEMORY_CLOCK_RATE',\n",
              " 'MULTIPROCESSOR_COUNT',\n",
              " 'MULTI_GPU_BOARD_GROUP_ID',\n",
              " 'PAGEABLE_MEMORY_ACCESS',\n",
              " 'PCI_BUS_ID',\n",
              " 'PCI_DEVICE_ID',\n",
              " 'PCI_DOMAIN_ID',\n",
              " 'SINGLE_TO_DOUBLE_PRECISION_PERF_RATIO',\n",
              " 'STREAM_PRIORITIES_SUPPORTED',\n",
              " 'SURFACE_ALIGNMENT',\n",
              " 'TCC_DRIVER',\n",
              " 'TEXTURE_ALIGNMENT',\n",
              " 'TEXTURE_PITCH_ALIGNMENT',\n",
              " 'TOTAL_CONSTANT_MEMORY',\n",
              " 'UNIFIED_ADDRESSING',\n",
              " 'WARP_SIZE']"
            ]
          },
          "metadata": {},
          "execution_count": 35
        }
      ]
    },
    {
      "cell_type": "code",
      "source": [
        "cuda.current_context().get_memory_info()"
      ],
      "metadata": {
        "colab": {
          "base_uri": "https://localhost:8080/"
        },
        "id": "rlZ7Fen1iX1p",
        "outputId": "690b73d1-5127-47a4-8ce3-b2f5819ac3b0"
      },
      "execution_count": 20,
      "outputs": [
        {
          "output_type": "execute_result",
          "data": {
            "text/plain": [
              "MemoryInfo(free=15736766464, total=15843721216)"
            ]
          },
          "metadata": {},
          "execution_count": 20
        }
      ]
    },
    {
      "cell_type": "code",
      "source": [
        "getattr(device,'CLOCK_RATE')"
      ],
      "metadata": {
        "colab": {
          "base_uri": "https://localhost:8080/"
        },
        "id": "KNI5dH8gmEsC",
        "outputId": "d444336e-3729-42ae-881c-9daa618327c7"
      },
      "execution_count": 36,
      "outputs": [
        {
          "output_type": "execute_result",
          "data": {
            "text/plain": [
              "1590000"
            ]
          },
          "metadata": {},
          "execution_count": 36
        }
      ]
    },
    {
      "cell_type": "code",
      "source": [
        "getattr(device,'MULTIPROCESSOR_COUNT')"
      ],
      "metadata": {
        "colab": {
          "base_uri": "https://localhost:8080/"
        },
        "id": "Ht7CeROJndmK",
        "outputId": "abce3ba0-ec71-4a18-f726-c452b2e4d954"
      },
      "execution_count": 39,
      "outputs": [
        {
          "output_type": "execute_result",
          "data": {
            "text/plain": [
              "40"
            ]
          },
          "metadata": {},
          "execution_count": 39
        }
      ]
    },
    {
      "cell_type": "code",
      "source": [
        "getattr(device,'TOTAL_CONSTANT_MEMORY')"
      ],
      "metadata": {
        "colab": {
          "base_uri": "https://localhost:8080/"
        },
        "id": "l5omZiZImhEp",
        "outputId": "e653be66-0386-4997-f1c7-034e8b091710"
      },
      "execution_count": 37,
      "outputs": [
        {
          "output_type": "execute_result",
          "data": {
            "text/plain": [
              "65536"
            ]
          },
          "metadata": {},
          "execution_count": 37
        }
      ]
    },
    {
      "cell_type": "code",
      "source": [],
      "metadata": {
        "id": "93CJzCkwmhOZ"
      },
      "execution_count": null,
      "outputs": []
    }
  ]
}